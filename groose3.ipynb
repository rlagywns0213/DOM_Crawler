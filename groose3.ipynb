{
 "cells": [
  {
   "cell_type": "markdown",
   "metadata": {},
   "source": [
    "# 기사/블로그 등 article extractor에 최적화된 라이브러리 "
   ]
  },
  {
   "cell_type": "markdown",
   "metadata": {},
   "source": [
    "참조 : https://github.com/goose3/goose3"
   ]
  },
  {
   "cell_type": "code",
   "execution_count": 3,
   "metadata": {},
   "outputs": [
    {
     "name": "stdout",
     "output_type": "stream",
     "text": [
      "Collecting goose3\n",
      "  Downloading goose3-3.1.6-py3-none-any.whl (86 kB)\n",
      "Requirement already satisfied: Pillow in c:\\users\\rlagy\\anaconda3\\lib\\site-packages (from goose3) (7.2.0)\n",
      "Requirement already satisfied: python-dateutil in c:\\users\\rlagy\\anaconda3\\lib\\site-packages (from goose3) (2.8.1)\n",
      "Requirement already satisfied: beautifulsoup4 in c:\\users\\rlagy\\anaconda3\\lib\\site-packages (from goose3) (4.9.1)\n",
      "Requirement already satisfied: requests in c:\\users\\rlagy\\anaconda3\\lib\\site-packages (from goose3) (2.24.0)\n",
      "Collecting jieba\n",
      "  Downloading jieba-0.42.1.tar.gz (19.2 MB)\n",
      "Requirement already satisfied: lxml in c:\\users\\rlagy\\anaconda3\\lib\\site-packages (from goose3) (4.5.2)\n",
      "Requirement already satisfied: nltk in c:\\users\\rlagy\\anaconda3\\lib\\site-packages (from goose3) (3.5)\n",
      "Collecting cssselect\n",
      "  Using cached cssselect-1.1.0-py2.py3-none-any.whl (16 kB)\n",
      "Requirement already satisfied: six>=1.5 in c:\\users\\rlagy\\anaconda3\\lib\\site-packages (from python-dateutil->goose3) (1.15.0)\n",
      "Requirement already satisfied: soupsieve>1.2 in c:\\users\\rlagy\\anaconda3\\lib\\site-packages (from beautifulsoup4->goose3) (2.0.1)\n",
      "Requirement already satisfied: urllib3!=1.25.0,!=1.25.1,<1.26,>=1.21.1 in c:\\users\\rlagy\\anaconda3\\lib\\site-packages (from requests->goose3) (1.25.9)\n",
      "Requirement already satisfied: chardet<4,>=3.0.2 in c:\\users\\rlagy\\anaconda3\\lib\\site-packages (from requests->goose3) (3.0.4)\n",
      "Requirement already satisfied: idna<3,>=2.5 in c:\\users\\rlagy\\anaconda3\\lib\\site-packages (from requests->goose3) (2.10)\n",
      "Requirement already satisfied: certifi>=2017.4.17 in c:\\users\\rlagy\\anaconda3\\lib\\site-packages (from requests->goose3) (2020.6.20)\n",
      "Requirement already satisfied: regex in c:\\users\\rlagy\\anaconda3\\lib\\site-packages (from nltk->goose3) (2020.6.8)\n",
      "Requirement already satisfied: click in c:\\users\\rlagy\\anaconda3\\lib\\site-packages (from nltk->goose3) (7.1.2)\n",
      "Requirement already satisfied: joblib in c:\\users\\rlagy\\anaconda3\\lib\\site-packages (from nltk->goose3) (0.16.0)\n",
      "Requirement already satisfied: tqdm in c:\\users\\rlagy\\anaconda3\\lib\\site-packages (from nltk->goose3) (4.47.0)\n",
      "Building wheels for collected packages: jieba\n",
      "  Building wheel for jieba (setup.py): started\n",
      "  Building wheel for jieba (setup.py): finished with status 'done'\n",
      "  Created wheel for jieba: filename=jieba-0.42.1-py3-none-any.whl size=19314481 sha256=5d474bfd4073416db79587823958b1cbb4de3b44607cdf4d66e6a2844137fcbc\n",
      "  Stored in directory: c:\\users\\rlagy\\appdata\\local\\pip\\cache\\wheels\\ca\\38\\d8\\dfdfe73bec1d12026b30cb7ce8da650f3f0ea2cf155ea018ae\n",
      "Successfully built jieba\n",
      "Installing collected packages: jieba, cssselect, goose3\n",
      "Successfully installed cssselect-1.1.0 goose3-3.1.6 jieba-0.42.1\n",
      "Note: you may need to restart the kernel to use updated packages.\n"
     ]
    }
   ],
   "source": [
    "pip install goose3"
   ]
  },
  {
   "cell_type": "code",
   "execution_count": 1,
   "metadata": {},
   "outputs": [],
   "source": [
    "from goose3 import Goose\n",
    "from goose3.text import StopWordsKorean"
   ]
  },
  {
   "cell_type": "code",
   "execution_count": 19,
   "metadata": {},
   "outputs": [],
   "source": [
    "url='https://news.naver.com/main/read.nhn?mode=LSD&mid=shm&sid1=102&oid=001&aid=0012112204'\n",
    "g = Goose({'stopwords_class':StopWordsKorean})"
   ]
  },
  {
   "cell_type": "code",
   "execution_count": 20,
   "metadata": {},
   "outputs": [],
   "source": [
    "article = g.extract(url=url)"
   ]
  },
  {
   "cell_type": "code",
   "execution_count": 17,
   "metadata": {
    "scrolled": true
   },
   "outputs": [
    {
     "name": "stdout",
     "output_type": "stream",
     "text": [
      "Help on Article in module goose3.article object:\n",
      "\n",
      "class Article(builtins.object)\n",
      " |  Methods defined here:\n",
      " |  \n",
      " |  __init__(self)\n",
      " |      Initialize self.  See help(type(self)) for accurate signature.\n",
      " |  \n",
      " |  ----------------------------------------------------------------------\n",
      " |  Readonly properties defined here:\n",
      " |  \n",
      " |  additional_data\n",
      " |      dict: A property bucket for consumers of goose3 to store custom data extractions\n",
      " |      \n",
      " |      Note:\n",
      " |          Read only\n",
      " |  \n",
      " |  authors\n",
      " |      list(str): A listing of authors as parsed from the meta tags\n",
      " |      \n",
      " |      Note:\n",
      " |          Read only\n",
      " |  \n",
      " |  canonical_link\n",
      " |      str: The canonical link of the article if found in the meta data\n",
      " |      \n",
      " |      Note:\n",
      " |          Read only\n",
      " |  \n",
      " |  cleaned_text\n",
      " |      str: Cleaned text of the article without HTML tags; most commonly desired property\n",
      " |      \n",
      " |      Note:\n",
      " |          Read only\n",
      " |  \n",
      " |  doc\n",
      " |      etree: lxml document that is being processed\n",
      " |      \n",
      " |      Note:\n",
      " |          Read only\n",
      " |  \n",
      " |  domain\n",
      " |      str: Domain of the article parsed\n",
      " |      \n",
      " |      Note:\n",
      " |          Read only\n",
      " |  \n",
      " |  final_url\n",
      " |      str: The URL that was used to pull and parsed; `None` if raw_html was used\n",
      " |      and no url element was found.\n",
      " |      \n",
      " |      Note:\n",
      " |          Read only\n",
      " |  \n",
      " |  infos\n",
      " |      dict: The summation of all data available about the extracted article\n",
      " |      \n",
      " |      Note:\n",
      " |          Read only\n",
      " |  \n",
      " |  link_hash\n",
      " |      str: The MD5 of the final url to be used for various identification tasks\n",
      " |      \n",
      " |      Note:\n",
      " |          Read only\n",
      " |  \n",
      " |  links\n",
      " |      list(str): A listing of URL links within the article\n",
      " |      \n",
      " |      Note:\n",
      " |          Read only\n",
      " |  \n",
      " |  meta_description\n",
      " |      str: Contents of the meta-description field from the HTML source\n",
      " |      \n",
      " |      Note:\n",
      " |          Read only\n",
      " |  \n",
      " |  meta_encoding\n",
      " |      str: Contents of the encoding/charset field from the HTML source\n",
      " |      \n",
      " |      Note:\n",
      " |          Read only\n",
      " |  \n",
      " |  meta_favicon\n",
      " |      str: Contents of the meta-favicon field from the HTML source\n",
      " |      \n",
      " |      Note:\n",
      " |          Read only\n",
      " |  \n",
      " |  meta_keywords\n",
      " |      str: Contents of the meta-keywords field from the HTML source\n",
      " |      \n",
      " |      Note:\n",
      " |          Read only\n",
      " |  \n",
      " |  meta_lang\n",
      " |      str: Contents of the meta-lang field from the HTML source\n",
      " |      \n",
      " |      Note:\n",
      " |          Read only\n",
      " |  \n",
      " |  movies\n",
      " |      list(Video): A listing of all videos within the article such as\n",
      " |      YouTube or Vimeo\n",
      " |      \n",
      " |      Returns:\n",
      " |          list(Video):  See more information on the goose3.Video class\n",
      " |      Note:\n",
      " |          Read only\n",
      " |  \n",
      " |  opengraph\n",
      " |      dict: All opengraph tag data\n",
      " |      \n",
      " |      Note:\n",
      " |          Read only\n",
      " |  \n",
      " |  publish_date\n",
      " |      str: The date the article was published based on meta tag extraction\n",
      " |      \n",
      " |      Note:\n",
      " |          Read only\n",
      " |  \n",
      " |  publish_datetime_utc\n",
      " |      datetime.datetime: The date time version of the published date based on meta tag extraction             in the UTC timezone, if timezone information is known\n",
      " |      \n",
      " |      Note:\n",
      " |          Read only\n",
      " |  \n",
      " |  raw_doc\n",
      " |      etree: Original, uncleaned, and untouched lxml document to be processed\n",
      " |      \n",
      " |      Note:\n",
      " |          Read only\n",
      " |  \n",
      " |  raw_html\n",
      " |      str: The HTML represented as a string\n",
      " |      \n",
      " |      Note:\n",
      " |          Read only\n",
      " |  \n",
      " |  schema\n",
      " |      dict: All schema tag data\n",
      " |      \n",
      " |      Note:\n",
      " |          Read only\n",
      " |  \n",
      " |  tags\n",
      " |      list(str): List of article tags (non-metadata tags)\n",
      " |      \n",
      " |      Note:\n",
      " |          Read only\n",
      " |  \n",
      " |  title\n",
      " |      str: Title extracted from the HTML source\n",
      " |      \n",
      " |      Note:\n",
      " |          Read only\n",
      " |  \n",
      " |  top_image\n",
      " |      Image: The top image object that likely represents the article\n",
      " |      \n",
      " |      Returns:\n",
      " |          Image: See more information on the goose3.Image class\n",
      " |      Note:\n",
      " |          Read only\n",
      " |  \n",
      " |  top_node\n",
      " |      etree: The top Element that is a candidate for the main body of the article\n",
      " |      \n",
      " |      Note:\n",
      " |          Read only\n",
      " |  \n",
      " |  tweets\n",
      " |      list(str): A listing of embeded tweets in the article\n",
      " |      \n",
      " |      Note:\n",
      " |          Read only\n",
      " |  \n",
      " |  ----------------------------------------------------------------------\n",
      " |  Data descriptors defined here:\n",
      " |  \n",
      " |  __dict__\n",
      " |      dictionary for instance variables (if defined)\n",
      " |  \n",
      " |  __weakref__\n",
      " |      list of weak references to the object (if defined)\n",
      "\n"
     ]
    }
   ],
   "source": [
    "help(article)"
   ]
  },
  {
   "cell_type": "code",
   "execution_count": 21,
   "metadata": {
    "scrolled": true
   },
   "outputs": [
    {
     "data": {
      "text/plain": [
       "'김진욱 \"공수처 권한, 국민께 어떻게 돌려줄지 심사숙고\"(종합)'"
      ]
     },
     "execution_count": 21,
     "metadata": {},
     "output_type": "execute_result"
    }
   ],
   "source": [
    "article.title"
   ]
  },
  {
   "cell_type": "code",
   "execution_count": 22,
   "metadata": {
    "scrolled": false
   },
   "outputs": [
    {
     "data": {
      "text/plain": [
       "'출근하는 김진욱 공수처장 후보자\\n\\n(서울=연합뉴스) 최재구 기자 = 김진욱 초대 고위공직자범죄수사처장 후보자가 31일 서울 종로구 인사청문회 준비 사무실로 출근하고 있다. jjaeck9@yna.co.kr 출근하는 김진욱 공수처장 후보자(서울=연합뉴스) 최재구 기자 = 김진욱 초대 고위공직자범죄수사처장 후보자가 31일 서울 종로구 인사청문회 준비 사무실로 출근하고 있다. jjaeck9@yna.co.kr\\n\\n김진욱 공수처장 후보자 출근\\n\\n(서울=연합뉴스) 최재구 기자 = 김진욱 초대 고위공직자범죄수사처장 후보자가 31일 서울 종로구 인사청문회 준비 사무실로 출근하고 있다. jjaeck9@yna.co.kr 김진욱 공수처장 후보자 출근(서울=연합뉴스) 최재구 기자 = 김진욱 초대 고위공직자범죄수사처장 후보자가 31일 서울 종로구 인사청문회 준비 사무실로 출근하고 있다. jjaeck9@yna.co.kr\\n\\n(서울=연합뉴스) 이대희 최재서 기자 = 김진욱 초대 고위공직자범죄수사처(이하 공수처) 처장 후보자는 31일 \"공수처의 권한을 국민께 어떻게 되돌려줄지 심사숙고하겠다\"고 말했다.김 후보자는 이날 오전 인사청문회 준비 사무실이 마련된 서울 종로구 이마빌딩에 처음으로 출근하면서 기자들에게 \"공수처가 무소불위의 권력기관이 될 것이라는 우려가 있지만, 이 권한도 국민께 받은 권력\"이라며 이같이 밝혔다.그는 \"헌법을 보면 모든 권력은 국민으로부터 나온다\"며 \"그런 권력이 국민 위에 군림하면 안 되며, 우리 헌법상 존재할 수도, 존재해서도 안 된다\"고 했다.일각에서 제기하는 공수처의 중립성 훼손 우려와 관련해 \"국회와 청와대의 검증을 받았고 마지막으로 국민의 검증이자 가장 중요한 인사청문회 과정이 남아 있다\"며 \"이제 막 시작이니 인내심을 갖고 하면 불식될 것\"이라고 강조했다.`공수처 출범 뒤 그가 임명할 차장을 친정부 인사가 차지할 것\\'이라는 지적에는 \"염두에 둔 사람은 있다\"며 \"그런 우려도 추측이라고 생각한다. 관심을 가지는 것으로 받아들이겠다\"고 반응했다.판사 출신으로 수사 경험이 부족하다는 지적에는 \"공수처는 처장 혼자가 아니라 차장, 검사, 수사관 등 다른 직원이 있다\"며 \"차차 보완될 것으로, 하나의 팀으로 서로 보완하며 수사할 것\"이라고 설명했다.그는 \"공수처 출범에 대해 국민 여러분들은 기대와 우려를 동시에 말했다\"며 \"이제 막 태어나는 공수처를 관심 있게 지켜봐 달라\"고 요청했다. 차관급인 공수처장에 지명된 김 후보자는 이날 대중교통을 이용해 첫 출근했다.2vs2@yna.co.kr'"
      ]
     },
     "execution_count": 22,
     "metadata": {},
     "output_type": "execute_result"
    }
   ],
   "source": [
    "article.cleaned_text"
   ]
  },
  {
   "cell_type": "markdown",
   "metadata": {},
   "source": [
    "### Goose 라이브러리는 기사의 제목 및 내용에 굉장히 유의미한 방식으로 사료됨. "
   ]
  },
  {
   "cell_type": "code",
   "execution_count": null,
   "metadata": {},
   "outputs": [],
   "source": []
  }
 ],
 "metadata": {
  "kernelspec": {
   "display_name": "Python 3",
   "language": "python",
   "name": "python3"
  },
  "language_info": {
   "codemirror_mode": {
    "name": "ipython",
    "version": 3
   },
   "file_extension": ".py",
   "mimetype": "text/x-python",
   "name": "python",
   "nbconvert_exporter": "python",
   "pygments_lexer": "ipython3",
   "version": "3.8.3"
  }
 },
 "nbformat": 4,
 "nbformat_minor": 4
}
