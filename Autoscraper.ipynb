{
 "cells": [
  {
   "cell_type": "markdown",
   "metadata": {},
   "source": [
    "# git 저장소에서 최신 버전의 autoscraper를 설치"
   ]
  },
  {
   "cell_type": "code",
   "execution_count": 1,
   "metadata": {},
   "outputs": [
    {
     "name": "stdout",
     "output_type": "stream",
     "text": [
      "Collecting git+https://github.com/alirezamika/autoscraper.git\n",
      "  Cloning https://github.com/alirezamika/autoscraper.git to c:\\users\\rlagy\\appdata\\local\\temp\\pip-req-build-_nh_taof\n",
      "Requirement already satisfied: requests in c:\\users\\rlagy\\anaconda3\\lib\\site-packages (from autoscraper==1.1.10) (2.24.0)\n",
      "Collecting bs4\n",
      "  Downloading bs4-0.0.1.tar.gz (1.1 kB)\n",
      "Requirement already satisfied: lxml in c:\\users\\rlagy\\anaconda3\\lib\\site-packages (from autoscraper==1.1.10) (4.5.2)\n",
      "Requirement already satisfied: idna<3,>=2.5 in c:\\users\\rlagy\\anaconda3\\lib\\site-packages (from requests->autoscraper==1.1.10) (2.10)\n",
      "Requirement already satisfied: urllib3!=1.25.0,!=1.25.1,<1.26,>=1.21.1 in c:\\users\\rlagy\\anaconda3\\lib\\site-packages (from requests->autoscraper==1.1.10) (1.25.9)\n",
      "Requirement already satisfied: chardet<4,>=3.0.2 in c:\\users\\rlagy\\anaconda3\\lib\\site-packages (from requests->autoscraper==1.1.10) (3.0.4)\n",
      "Requirement already satisfied: certifi>=2017.4.17 in c:\\users\\rlagy\\anaconda3\\lib\\site-packages (from requests->autoscraper==1.1.10) (2020.6.20)\n",
      "Requirement already satisfied: beautifulsoup4 in c:\\users\\rlagy\\anaconda3\\lib\\site-packages (from bs4->autoscraper==1.1.10) (4.9.1)\n",
      "Requirement already satisfied: soupsieve>1.2 in c:\\users\\rlagy\\anaconda3\\lib\\site-packages (from beautifulsoup4->bs4->autoscraper==1.1.10) (2.0.1)\n",
      "Building wheels for collected packages: autoscraper, bs4\n",
      "  Building wheel for autoscraper (setup.py): started\n",
      "  Building wheel for autoscraper (setup.py): finished with status 'done'\n",
      "  Created wheel for autoscraper: filename=autoscraper-1.1.10-py3-none-any.whl size=7813 sha256=a1745e79d537e99da7d96baaf0a138c6941ee1662d9b117872bc9485227b830b\n",
      "  Stored in directory: C:\\Users\\rlagy\\AppData\\Local\\Temp\\pip-ephem-wheel-cache-ap3a6a2x\\wheels\\01\\ee\\5a\\b3a8e7399ca89d0d4ba473ecef95abbdf618ab5379344f02c5\n",
      "  Building wheel for bs4 (setup.py): started\n",
      "  Building wheel for bs4 (setup.py): finished with status 'done'\n",
      "  Created wheel for bs4: filename=bs4-0.0.1-py3-none-any.whl size=1279 sha256=e1e111dc5bc3286eaf27ee6f260c3369e115991eaeb97c704444333b5039f6bc\n",
      "  Stored in directory: c:\\users\\rlagy\\appdata\\local\\pip\\cache\\wheels\\75\\78\\21\\68b124549c9bdc94f822c02fb9aa3578a669843f9767776bca\n",
      "Successfully built autoscraper bs4\n",
      "Installing collected packages: bs4, autoscraper\n",
      "Successfully installed autoscraper-1.1.10 bs4-0.0.1\n",
      "Note: you may need to restart the kernel to use updated packages.\n"
     ]
    },
    {
     "name": "stderr",
     "output_type": "stream",
     "text": [
      "  Running command git clone -q https://github.com/alirezamika/autoscraper.git 'C:\\Users\\rlagy\\AppData\\Local\\Temp\\pip-req-build-_nh_taof'\n"
     ]
    }
   ],
   "source": [
    "pip install git+https://github.com/alirezamika/autoscraper.git"
   ]
  },
  {
   "cell_type": "code",
   "execution_count": 2,
   "metadata": {},
   "outputs": [
    {
     "name": "stdout",
     "output_type": "stream",
     "text": [
      "[]\n"
     ]
    }
   ],
   "source": [
    "from autoscraper import AutoScraper\n",
    "url = 'https://stackoverflow.com/questions/2081586/web-scraping-with-python'\n",
    "# We can add one or multiple candidates here.\n",
    "# You can also put urls here to retrieve urls.\n",
    "wanted_list = [\"How to call an external command?\"]\n",
    "scraper = AutoScraper()\n",
    "result = scraper.build(url, wanted_list)\n",
    "print(result)"
   ]
  },
  {
   "cell_type": "markdown",
   "metadata": {},
   "source": [
    "## 학습시킨 항목과 유사한 text를 가져옵니다"
   ]
  },
  {
   "cell_type": "code",
   "execution_count": 3,
   "metadata": {},
   "outputs": [
    {
     "data": {
      "text/plain": [
       "[]"
      ]
     },
     "execution_count": 3,
     "metadata": {},
     "output_type": "execute_result"
    }
   ],
   "source": [
    "scraper.get_result_similar('https://stackoverflow.com/questions/606191/convert-bytes-to-a-string')"
   ]
  },
  {
   "cell_type": "markdown",
   "metadata": {},
   "source": [
    "# TEST (출처)\n",
    "https://gist.github.com/alirezamika/72083221891eecd991bbc0a2a2467673"
   ]
  },
  {
   "cell_type": "code",
   "execution_count": null,
   "metadata": {},
   "outputs": [],
   "source": [
    "url = 'https://www.sigmaaldrich.com/catalog/product/sial/63195?lang=ko&region=KR' \n",
    "\n",
    "wanted_list = ['certified reference material', 'BioChemika','certificate is enclosed in each package','WGK 3'] \n",
    "\n",
    "scraper.build(url, wanted_list)"
   ]
  },
  {
   "cell_type": "code",
   "execution_count": 4,
   "metadata": {},
   "outputs": [
    {
     "data": {
      "text/plain": [
       "['세종특별자치시_업종별 통합허가대상사업장',\n",
       " '텍스트',\n",
       " '2',\n",
       " 'CSV',\n",
       " '12',\n",
       " '대기,배출,허가',\n",
       " '2021-01-06',\n",
       " '공공데이터포털에서 다운로드(원문파일등록)',\n",
       " '세종특별자치시 대기배출시설 인허가 2종 이상 사업장(업체명, 소재지, 전화번호 등)입니다.',\n",
       " '세종특별자치시_업종별 통합허가대상사업장_20210104',\n",
       " '환경 - 대기',\n",
       " '세종특별자치시',\n",
       " '정보통계담당관',\n",
       " '연간',\n",
       " '2022-01-04',\n",
       " '무료',\n",
       " '건',\n",
       " '이용허락범위 제한 없음']"
      ]
     },
     "execution_count": 4,
     "metadata": {},
     "output_type": "execute_result"
    }
   ],
   "source": [
    "url = 'https://www.data.go.kr/data/15075824/fileData.do' \n",
    "\n",
    "wanted_list = ['세종특별자치시_업종별 통합허가대상사업장', '044-300-2413','대기,배출,허가','2022-01-04','세종특별자치시 대기배출시설 인허가 2종 이상 사업장(업체명, 소재지, 전화번호 등)입니다.', '무료'] \n",
    "\n",
    "scraper.build(url, wanted_list)"
   ]
  },
  {
   "cell_type": "code",
   "execution_count": 37,
   "metadata": {
    "scrolled": true
   },
   "outputs": [
    {
     "data": {
      "text/plain": [
       "['보건복지부_사전연명의료의향서 등록기관 현황',\n",
       " '연명의료,사전연명의료의향서,국립연명의료관리기관',\n",
       " '2022-01-06',\n",
       " '사전연명의료의향서 등록기관으로 지정된 기관의 정보 (시도, 기관유형, 기관명, 주소, 위도, 경도, 전화번호)',\n",
       " '무료']"
      ]
     },
     "execution_count": 37,
     "metadata": {},
     "output_type": "execute_result"
    }
   ],
   "source": [
    "scraper.get_result_exact('https://www.data.go.kr/data/15075100/fileData.do') "
   ]
  },
  {
   "cell_type": "code",
   "execution_count": 38,
   "metadata": {
    "scrolled": true
   },
   "outputs": [
    {
     "data": {
      "text/plain": [
       "{'rule_9l9m': ['세종특별자치시_업종별 통합허가대상사업장'],\n",
       " 'rule_tovv': ['대기,배출,허가'],\n",
       " 'rule_ggq1': ['2022-01-04'],\n",
       " 'rule_bfn0': ['세종특별자치시 대기배출시설 인허가 2종 이상 사업장(업체명, 소재지, 전화번호 등)입니다.'],\n",
       " 'rule_9z1l': ['세종특별자치시 대기배출시설 인허가 2종 이상 사업장(업체명, 소재지, 전화번호 등)입니다.'],\n",
       " 'rule_7gfq': ['무료']}"
      ]
     },
     "execution_count": 38,
     "metadata": {},
     "output_type": "execute_result"
    }
   ],
   "source": [
    "scraper.get_result_exact('https://www.data.go.kr/data/15075824/fileData.do', grouped=True) "
   ]
  },
  {
   "cell_type": "markdown",
   "metadata": {},
   "source": [
    "### 관리부서 전화번호 항목은 가져오지 못함"
   ]
  },
  {
   "cell_type": "code",
   "execution_count": 21,
   "metadata": {},
   "outputs": [
    {
     "data": {
      "text/plain": [
       "['무료']"
      ]
     },
     "execution_count": 21,
     "metadata": {},
     "output_type": "execute_result"
    }
   ],
   "source": [
    "scraper.keep_rules(['rule_zxeq'])\n",
    " \n",
    "scraper.get_result_exact('https://www.data.go.kr/data/15075100/fileData.do') "
   ]
  },
  {
   "cell_type": "markdown",
   "metadata": {},
   "source": [
    "# 학습 여러번 시도"
   ]
  },
  {
   "cell_type": "code",
   "execution_count": 278,
   "metadata": {},
   "outputs": [],
   "source": [
    "from autoscraper import AutoScraper\n",
    "\n",
    "data = [\n",
    "   ('https://www.data.go.kr/data/15075824/fileData.do', ['세종특별자치시_업종별 통합허가대상사업장', '세종특별자치시 대기배출시설 인허가 2종 이상 사업장(업체명, 소재지, 전화번호 등)입니다.','044-300-2413','대기,배출,허가','2021-01-06','환경 - 대기', '무료']),\n",
    "   ('https://www.data.go.kr/data/15075786/fileData.do', ['전라북도 정읍시_농산물산지유통센터 현황','전라북도 정읍시에 소재한 농산물 산지유통센터 현황 중 기관명, 개장일, 사업장주소, 취급품목, 담당부서, 담당부서전화 자료제공','063-539-5403','농산물,산지유통,APC','2021-01-06','농림 - 농업·농촌','무료']),\n",
    "  #('https://www.data.go.kr/data/15075101/fileData.do', ['인천광역시 중구_제1회 백범 김구 서예대전','대한민국 임시정부 수립 101주년을 맞아 임정 수립과 독립에 중추적인 역할을 한 민족지도자 백범 김구 선생의 정신을 기리고 독립운동의 역사를 재조명하고자 개최된「제1회 백범 김구 서예대전」의 입선 작품과 심사위원 작품, 중국작가 기증 작품을 온라인 전시','032-760-7114','온라인,전시,작품','2020-12-22','문화체육관광 - 문화예술','무료','https://www.icjg.go.kr/tour/cths0601c']),\n",
    "  \n",
    "]\n",
    "\n",
    "scraper = AutoScraper()\n",
    "for url, wanted_list in data:\n",
    "    scraper.build(url=url, wanted_list=wanted_list, update=True)"
   ]
  },
  {
   "cell_type": "code",
   "execution_count": 274,
   "metadata": {},
   "outputs": [],
   "source": [
    "from autoscraper import AutoScraper\n",
    "\n",
    "data = [\n",
    "   # some Ebay examples\n",
    "   ('https://www.data.go.kr/data/15075824/fileData.do', ['세종특별자치시_업종별 통합허가대상사업장', '세종특별자치시 대기배출시설 인허가 2종 이상 사업장(업체명, 소재지, 전화번호 등)입니다.','044-300-2413','대기,배출,허가','2021-01-06','환경 - 대기', '무료']),\n",
    "   ('https://www.data.go.kr/data/15075786/fileData.do', ['전라북도 정읍시_농산물산지유통센터 현황','전라북도 정읍시에 소재한 농산물 산지유통센터 현황 중 기관명, 개장일, 사업장주소, 취급품목, 담당부서, 담당부서전화 자료제공','063-539-5403','농산물,산지유통,APC','2021-01-06','농림 - 농업·농촌','무료']),\n",
    "   #('https://www.data.go.kr/data/15075101/fileData.do', ['인천광역시 중구_제1회 백범 김구 서예대전','대한민국 임시정부 수립 101주년을 맞아 임정 수립과 독립에 중추적인 역할을 한 민족지도자 백범 김구 선생의 정신을 기리고 독립운동의 역사를 재조명하고자 개최된「제1회 백범 김구 서예대전」의 입선 작품과 심사위원 작품, 중국작가 기증 작품을 온라인 전시','032-760-7114','온라인,전시,작품','2020-12-22','문화체육관광 - 문화예술','무료','https://www.icjg.go.kr/tour/cths0601c']),\n",
    "   \n",
    "]\n",
    "\n",
    "scraper2 = AutoScraper()\n",
    "for url, wanted_list in data:\n",
    "    scraper2.build(url=url, wanted_list=wanted_list, update=True)"
   ]
  },
  {
   "cell_type": "code",
   "execution_count": 281,
   "metadata": {
    "scrolled": true
   },
   "outputs": [
    {
     "data": {
      "text/plain": [
       "{'rule_6h91': ['광주광역시 북구_실외체육시설현황'],\n",
       " 'rule_hiqk': ['텍스트',\n",
       "  '28',\n",
       "  'CSV',\n",
       "  '12',\n",
       "  '축구장,족구장,론볼장',\n",
       "  '2020-12-24',\n",
       "  '2020-12-24',\n",
       "  '공공데이터포털에서 다운로드(원문파일등록)',\n",
       "  '광주광역시 북구에 위치한 실외체육시설현황(시설구분,주소, 규격)에 대한 정보입니다.'],\n",
       " 'rule_mxmc': ['광주광역시 북구에 위치한 실외체육시설현황(시설구분,주소, 규격)에 대한 정보입니다.'],\n",
       " 'rule_1amr': ['텍스트',\n",
       "  '28',\n",
       "  'CSV',\n",
       "  '12',\n",
       "  '축구장,족구장,론볼장',\n",
       "  '2020-12-24',\n",
       "  '2020-12-24',\n",
       "  '공공데이터포털에서 다운로드(원문파일등록)',\n",
       "  '광주광역시 북구에 위치한 실외체육시설현황(시설구분,주소, 규격)에 대한 정보입니다.'],\n",
       " 'rule_evxs': ['텍스트',\n",
       "  '28',\n",
       "  'CSV',\n",
       "  '12',\n",
       "  '축구장,족구장,론볼장',\n",
       "  '2020-12-24',\n",
       "  '2020-12-24',\n",
       "  '공공데이터포털에서 다운로드(원문파일등록)',\n",
       "  '광주광역시 북구에 위치한 실외체육시설현황(시설구분,주소, 규격)에 대한 정보입니다.'],\n",
       " 'rule_s0nt': ['텍스트',\n",
       "  '28',\n",
       "  'CSV',\n",
       "  '12',\n",
       "  '축구장,족구장,론볼장',\n",
       "  '2020-12-24',\n",
       "  '2020-12-24',\n",
       "  '공공데이터포털에서 다운로드(원문파일등록)',\n",
       "  '광주광역시 북구에 위치한 실외체육시설현황(시설구분,주소, 규격)에 대한 정보입니다.'],\n",
       " 'rule_db0v': ['광주광역시 북구_실외체육시설현황_20201220',\n",
       "  '문화체육관광 - 체육',\n",
       "  '광주광역시 북구',\n",
       "  '홍보전산과',\n",
       "  '연간',\n",
       "  '2021-12-24'],\n",
       " 'rule_kdpk': ['무료', '건', '이용허락범위 제한 없음']}"
      ]
     },
     "execution_count": 281,
     "metadata": {},
     "output_type": "execute_result"
    }
   ],
   "source": [
    "scraper.get_result_similar(f'https://www.data.go.kr/data/15075102/fileData.do', grouped=True)"
   ]
  },
  {
   "cell_type": "code",
   "execution_count": 279,
   "metadata": {},
   "outputs": [
    {
     "data": {
      "text/plain": [
       "[]"
      ]
     },
     "execution_count": 279,
     "metadata": {},
     "output_type": "execute_result"
    }
   ],
   "source": [
    "scraper.get_result_similar('https://www.weedsta.com/strains/banana-kush', attr_fuzz_ratio=0)"
   ]
  },
  {
   "cell_type": "markdown",
   "metadata": {},
   "source": [
    "# url 없을 때 학습"
   ]
  },
  {
   "cell_type": "code",
   "execution_count": 302,
   "metadata": {},
   "outputs": [],
   "source": [
    "from autoscraper import AutoScraper\n",
    "\n",
    "data = [\n",
    "   # some Ebay examples\n",
    "   ('https://www.data.go.kr/data/15075824/fileData.do', ['세종특별자치시_업종별 통합허가대상사업장', '세종특별자치시 대기배출시설 인허가 2종 이상 사업장(업체명, 소재지, 전화번호 등)입니다.','044-300-2413','대기,배출,허가','2021-01-06','환경 - 대기', '무료']),\n",
    "   ('https://www.data.go.kr/data/15075786/fileData.do', ['전라북도 정읍시_농산물산지유통센터 현황','전라북도 정읍시에 소재한 농산물 산지유통센터 현황 중 기관명, 개장일, 사업장주소, 취급품목, 담당부서, 담당부서전화 자료제공','063-539-5403','농산물,산지유통,APC','2021-01-06','농림 - 농업·농촌','무료']),\n",
    "   #('https://www.data.go.kr/data/15075101/fileData.do', ['인천광역시 중구_제1회 백범 김구 서예대전','대한민국 임시정부 수립 101주년을 맞아 임정 수립과 독립에 중추적인 역할을 한 민족지도자 백범 김구 선생의 정신을 기리고 독립운동의 역사를 재조명하고자 개최된「제1회 백범 김구 서예대전」의 입선 작품과 심사위원 작품, 중국작가 기증 작품을 온라인 전시','032-760-7114','온라인,전시,작품','2020-12-22','문화체육관광 - 문화예술','무료','https://www.icjg.go.kr/tour/cths0601c']),\n",
    "   \n",
    "]\n",
    "\n",
    "scraper = AutoScraper()\n",
    "for url, wanted_list in data:\n",
    "    scraper.build(url=url, wanted_list=wanted_list, update=True)"
   ]
  },
  {
   "cell_type": "code",
   "execution_count": 37,
   "metadata": {},
   "outputs": [],
   "source": [
    "results2=[]\n",
    "for i in range(0,10):\n",
    "    results2.append(scraper.get_result_exact(f'https://www.data.go.kr/data/1507510{i}/fileData.do', grouped=True))"
   ]
  },
  {
   "cell_type": "code",
   "execution_count": null,
   "metadata": {},
   "outputs": [],
   "source": []
  },
  {
   "cell_type": "code",
   "execution_count": 23,
   "metadata": {},
   "outputs": [],
   "source": [
    "dict2 = results2[2]"
   ]
  },
  {
   "cell_type": "code",
   "execution_count": 24,
   "metadata": {
    "scrolled": true
   },
   "outputs": [
    {
     "data": {
      "text/plain": [
       "{'rule_gva0': ['광주광역시 북구_실외체육시설현황'],\n",
       " 'rule_f33n': ['광주광역시 북구에 위치한 실외체육시설현황(시설구분,주소, 규격)에 대한 정보입니다.'],\n",
       " 'rule_706q': ['광주광역시 북구에 위치한 실외체육시설현황(시설구분,주소, 규격)에 대한 정보입니다.'],\n",
       " 'rule_tm02': ['축구장,족구장,론볼장'],\n",
       " 'rule_7bjs': ['2020-12-24'],\n",
       " 'rule_6wxm': ['2020-12-24'],\n",
       " 'rule_vzh2': ['문화체육관광 - 체육'],\n",
       " 'rule_duje': ['무료'],\n",
       " 'rule_6bf0': ['javascript:void(0)']}"
      ]
     },
     "execution_count": 24,
     "metadata": {},
     "output_type": "execute_result"
    }
   ],
   "source": [
    "dict2"
   ]
  },
  {
   "cell_type": "code",
   "execution_count": 44,
   "metadata": {},
   "outputs": [],
   "source": [
    "dic2 = scraper.get_result_exact('https://www.data.go.kr/data/15075101/fileData.do', grouped=True)"
   ]
  },
  {
   "cell_type": "code",
   "execution_count": 46,
   "metadata": {},
   "outputs": [
    {
     "data": {
      "text/plain": [
       "{'rule_gva0': ['인천광역시 중구_제1회 백범 김구 서예대전'],\n",
       " 'rule_f33n': ['https://www.icjg.go.kr/tour/cths0601c'],\n",
       " 'rule_706q': ['대한민국 임시정부 수립 101주년을 맞아 임정 수립과 독립에 중추적인 역할을 한 민족지도자 백범 김구 선생의 정신을 기리고 독립운동의 역사를 재조명하고자 개최된「제1회 백범 김구 서예대전」의 입선 작품과 심사위원 작품, 중국작가 기증 작품을  온라인 전시'],\n",
       " 'rule_tm02': ['온라인,전시,작품'],\n",
       " 'rule_7bjs': ['2020-12-22'],\n",
       " 'rule_6wxm': ['2020-12-22'],\n",
       " 'rule_vzh2': ['문화체육관광 - 문화예술'],\n",
       " 'rule_duje': ['무료'],\n",
       " 'rule_6bf0': ['https://www.icjg.go.kr/tour/cths0601c']}"
      ]
     },
     "execution_count": 46,
     "metadata": {},
     "output_type": "execute_result"
    }
   ],
   "source": [
    "dic2"
   ]
  },
  {
   "cell_type": "code",
   "execution_count": 51,
   "metadata": {},
   "outputs": [],
   "source": [
    "a ='인천광역시 중구_제1회 백범 김구 서예대전'"
   ]
  },
  {
   "cell_type": "code",
   "execution_count": 69,
   "metadata": {},
   "outputs": [
    {
     "data": {
      "text/plain": [
       "{'rule_gva0': ['광주광역시 북구_실외체육시설현황'],\n",
       " 'rule_f33n': ['광주광역시 북구에 위치한 실외체육시설현황(시설구분,주소, 규격)에 대한 정보입니다.'],\n",
       " 'rule_706q': ['광주광역시 북구에 위치한 실외체육시설현황(시설구분,주소, 규격)에 대한 정보입니다.'],\n",
       " 'rule_tm02': ['축구장,족구장,론볼장'],\n",
       " 'rule_7bjs': ['2020-12-24'],\n",
       " 'rule_6wxm': ['2020-12-24'],\n",
       " 'rule_vzh2': ['문화체육관광 - 체육'],\n",
       " 'rule_duje': ['무료'],\n",
       " 'rule_6bf0': ['javascript:void(0)']}"
      ]
     },
     "execution_count": 69,
     "metadata": {},
     "output_type": "execute_result"
    }
   ],
   "source": [
    "dict2"
   ]
  },
  {
   "cell_type": "code",
   "execution_count": 60,
   "metadata": {},
   "outputs": [
    {
     "name": "stdout",
     "output_type": "stream",
     "text": [
      "rule_gva0 ['인천광역시 중구_제1회 백범 김구 서예대전']\n",
      "rule_f33n ['https://www.icjg.go.kr/tour/cths0601c']\n",
      "rule_706q ['대한민국 임시정부 수립 101주년을 맞아 임정 수립과 독립에 중추적인 역할을 한 민족지도자 백범 김구 선생의 정신을 기리고 독립운동의 역사를 재조명하고자 개최된「제1회 백범 김구 서예대전」의 입선 작품과 심사위원 작품, 중국작가 기증 작품을  온라인 전시']\n",
      "rule_tm02 ['온라인,전시,작품']\n",
      "rule_7bjs ['2020-12-22']\n",
      "rule_6wxm ['2020-12-22']\n",
      "rule_vzh2 ['문화체육관광 - 문화예술']\n",
      "rule_duje ['무료']\n",
      "rule_6bf0 ['https://www.icjg.go.kr/tour/cths0601c']\n"
     ]
    }
   ],
   "source": [
    "global rule1\n",
    "for k, v in dic2.items():\n",
    "    print(k,v)\n",
    "     "
   ]
  },
  {
   "cell_type": "code",
   "execution_count": 59,
   "metadata": {},
   "outputs": [
    {
     "data": {
      "text/plain": [
       "dict_items([('rule_gva0', ['인천광역시 중구_제1회 백범 김구 서예대전']), ('rule_f33n', ['https://www.icjg.go.kr/tour/cths0601c']), ('rule_706q', ['대한민국 임시정부 수립 101주년을 맞아 임정 수립과 독립에 중추적인 역할을 한 민족지도자 백범 김구 선생의 정신을 기리고 독립운동의 역사를 재조명하고자 개최된「제1회 백범 김구 서예대전」의 입선 작품과 심사위원 작품, 중국작가 기증 작품을  온라인 전시']), ('rule_tm02', ['온라인,전시,작품']), ('rule_7bjs', ['2020-12-22']), ('rule_6wxm', ['2020-12-22']), ('rule_vzh2', ['문화체육관광 - 문화예술']), ('rule_duje', ['무료']), ('rule_6bf0', ['https://www.icjg.go.kr/tour/cths0601c'])])"
      ]
     },
     "execution_count": 59,
     "metadata": {},
     "output_type": "execute_result"
    }
   ],
   "source": [
    "dic2.items()"
   ]
  },
  {
   "cell_type": "code",
   "execution_count": 38,
   "metadata": {},
   "outputs": [
    {
     "data": {
      "text/plain": [
       "[('인천광역시 중구_제1회 백범 김구 서예대전',\n",
       "  '대한민국 임시정부 수립 101주년을 맞아 임정 수립과 독립에 중추적인 역할을 한 민족지도자 백범 김구 선생의 정신을 기리고 독립운동의 역사를 재조명하고자 개최된「제1회 백범 김구 서예대전」의 입선 작품과 심사위원 작품, 중국작가 기증 작품을  온라인 전시',\n",
       "  '온라인,전시,작품',\n",
       "  '2020-12-22',\n",
       "  '문화체육관광 - 문화예술',\n",
       "  '무료',\n",
       "  'https://www.icjg.go.kr/tour/cths0601c'),\n",
       " ('인천광역시 중구_제1회 백범 김구 서예대전',\n",
       "  '대한민국 임시정부 수립 101주년을 맞아 임정 수립과 독립에 중추적인 역할을 한 민족지도자 백범 김구 선생의 정신을 기리고 독립운동의 역사를 재조명하고자 개최된「제1회 백범 김구 서예대전」의 입선 작품과 심사위원 작품, 중국작가 기증 작품을  온라인 전시',\n",
       "  '온라인,전시,작품',\n",
       "  '2020-12-22',\n",
       "  '문화체육관광 - 문화예술',\n",
       "  '무료',\n",
       "  'https://www.icjg.go.kr/tour/cths0601c')]"
      ]
     },
     "execution_count": 38,
     "metadata": {},
     "output_type": "execute_result"
    }
   ],
   "source": [
    "results"
   ]
  },
  {
   "cell_type": "code",
   "execution_count": 39,
   "metadata": {},
   "outputs": [
    {
     "data": {
      "text/html": [
       "<div>\n",
       "<style scoped>\n",
       "    .dataframe tbody tr th:only-of-type {\n",
       "        vertical-align: middle;\n",
       "    }\n",
       "\n",
       "    .dataframe tbody tr th {\n",
       "        vertical-align: top;\n",
       "    }\n",
       "\n",
       "    .dataframe thead th {\n",
       "        text-align: right;\n",
       "    }\n",
       "</style>\n",
       "<table border=\"1\" class=\"dataframe\">\n",
       "  <thead>\n",
       "    <tr style=\"text-align: right;\">\n",
       "      <th></th>\n",
       "      <th>t</th>\n",
       "      <th>3</th>\n",
       "      <th>1</th>\n",
       "    </tr>\n",
       "  </thead>\n",
       "  <tbody>\n",
       "    <tr>\n",
       "      <th>0</th>\n",
       "      <td>dd</td>\n",
       "      <td>22</td>\n",
       "      <td>33</td>\n",
       "    </tr>\n",
       "  </tbody>\n",
       "</table>\n",
       "</div>"
      ],
      "text/plain": [
       "    t   3   1\n",
       "0  dd  22  33"
      ]
     },
     "execution_count": 39,
     "metadata": {},
     "output_type": "execute_result"
    }
   ],
   "source": [
    "pd.DataFrame([('dd','22','33')],columns=['t','3','1'])"
   ]
  },
  {
   "cell_type": "code",
   "execution_count": null,
   "metadata": {},
   "outputs": [],
   "source": [
    "    for k, v in scrape_new.items():\n",
    "            global rule1\n",
    "            global rule2\n",
    "            global rule3\n",
    "            if request.form['text1'] in v:\n",
    "                rule1 = scrape_new[k]\n",
    "            if request.form['text2'] in v:\n",
    "                rule2 = scrape_new[k]\n",
    "            if request.form['text3'] in v:\n",
    "                rule3 = scrape_new[k]\n",
    "\n",
    "    df = pd.DataFrame([(rule1,rule2,rule3)],columns=['파일명','내용','아'])"
   ]
  },
  {
   "cell_type": "code",
   "execution_count": 71,
   "metadata": {},
   "outputs": [
    {
     "ename": "TypeError",
     "evalue": "unhashable type: 'list'",
     "output_type": "error",
     "traceback": [
      "\u001b[1;31m---------------------------------------------------------------------------\u001b[0m",
      "\u001b[1;31mTypeError\u001b[0m                                 Traceback (most recent call last)",
      "\u001b[1;32m<ipython-input-71-23abe4f1d325>\u001b[0m in \u001b[0;36m<module>\u001b[1;34m\u001b[0m\n\u001b[1;32m----> 1\u001b[1;33m \u001b[0mdict_reverse\u001b[0m \u001b[1;33m=\u001b[0m \u001b[1;33m{\u001b[0m\u001b[0mv\u001b[0m\u001b[1;33m:\u001b[0m\u001b[0mk\u001b[0m \u001b[1;32mfor\u001b[0m \u001b[0mk\u001b[0m\u001b[1;33m,\u001b[0m\u001b[0mv\u001b[0m \u001b[1;32min\u001b[0m \u001b[0mdict2\u001b[0m\u001b[1;33m.\u001b[0m\u001b[0mitems\u001b[0m\u001b[1;33m(\u001b[0m\u001b[1;33m)\u001b[0m\u001b[1;33m}\u001b[0m \u001b[1;31m#// {'AA': '0', 'BB': '1', 'CC': '2'}\u001b[0m\u001b[1;33m\u001b[0m\u001b[1;33m\u001b[0m\u001b[0m\n\u001b[0m\u001b[0;32m      2\u001b[0m \u001b[0mdict_reverse\u001b[0m\u001b[1;33m.\u001b[0m\u001b[0mget\u001b[0m\u001b[1;33m(\u001b[0m\u001b[1;33m[\u001b[0m\u001b[1;34m'광주광역시 북구_실외체육시설현황'\u001b[0m\u001b[1;33m]\u001b[0m\u001b[1;33m)\u001b[0m\u001b[1;33m\u001b[0m\u001b[1;33m\u001b[0m\u001b[0m\n",
      "\u001b[1;32m<ipython-input-71-23abe4f1d325>\u001b[0m in \u001b[0;36m<dictcomp>\u001b[1;34m(.0)\u001b[0m\n\u001b[1;32m----> 1\u001b[1;33m \u001b[0mdict_reverse\u001b[0m \u001b[1;33m=\u001b[0m \u001b[1;33m{\u001b[0m\u001b[0mv\u001b[0m\u001b[1;33m:\u001b[0m\u001b[0mk\u001b[0m \u001b[1;32mfor\u001b[0m \u001b[0mk\u001b[0m\u001b[1;33m,\u001b[0m\u001b[0mv\u001b[0m \u001b[1;32min\u001b[0m \u001b[0mdict2\u001b[0m\u001b[1;33m.\u001b[0m\u001b[0mitems\u001b[0m\u001b[1;33m(\u001b[0m\u001b[1;33m)\u001b[0m\u001b[1;33m}\u001b[0m \u001b[1;31m#// {'AA': '0', 'BB': '1', 'CC': '2'}\u001b[0m\u001b[1;33m\u001b[0m\u001b[1;33m\u001b[0m\u001b[0m\n\u001b[0m\u001b[0;32m      2\u001b[0m \u001b[0mdict_reverse\u001b[0m\u001b[1;33m.\u001b[0m\u001b[0mget\u001b[0m\u001b[1;33m(\u001b[0m\u001b[1;33m[\u001b[0m\u001b[1;34m'광주광역시 북구_실외체육시설현황'\u001b[0m\u001b[1;33m]\u001b[0m\u001b[1;33m)\u001b[0m\u001b[1;33m\u001b[0m\u001b[1;33m\u001b[0m\u001b[0m\n",
      "\u001b[1;31mTypeError\u001b[0m: unhashable type: 'list'"
     ]
    }
   ],
   "source": [
    "dict_reverse = {v:k for k,v in dict2.items()} #// {'AA': '0', 'BB': '1', 'CC': '2'}\n",
    "dict_reverse.get(['광주광역시 북구_실외체육시설현황'])"
   ]
  },
  {
   "cell_type": "code",
   "execution_count": 78,
   "metadata": {
    "scrolled": false
   },
   "outputs": [
    {
     "data": {
      "text/plain": [
       "{'rule_gva0': ['광주광역시 북구_실외체육시설현황'],\n",
       " 'rule_f33n': ['광주광역시 북구에 위치한 실외체육시설현황(시설구분,주소, 규격)에 대한 정보입니다.'],\n",
       " 'rule_706q': ['광주광역시 북구에 위치한 실외체육시설현황(시설구분,주소, 규격)에 대한 정보입니다.'],\n",
       " 'rule_tm02': ['축구장,족구장,론볼장'],\n",
       " 'rule_7bjs': ['2020-12-24'],\n",
       " 'rule_6wxm': ['2020-12-24'],\n",
       " 'rule_vzh2': ['문화체육관광 - 체육'],\n",
       " 'rule_duje': ['무료'],\n",
       " 'rule_6bf0': 2,\n",
       " '2': 2}"
      ]
     },
     "execution_count": 78,
     "metadata": {},
     "output_type": "execute_result"
    }
   ],
   "source": [
    "dict2"
   ]
  },
  {
   "cell_type": "code",
   "execution_count": 77,
   "metadata": {},
   "outputs": [],
   "source": [
    "dict2['rule_6bf0'] = 2"
   ]
  },
  {
   "cell_type": "code",
   "execution_count": 86,
   "metadata": {},
   "outputs": [
    {
     "data": {
      "text/plain": [
       "{'rule_gva0': '광주광역시 북구_실외체육시설현황',\n",
       " 'rule_f33n': '광주광역시 북구에 위치한 실외체육시설현황(시설구분,주소, 규격)에 대한 정보입니다.',\n",
       " 'rule_706q': '광주광역시 북구에 위치한 실외체육시설현황(시설구분,주소, 규격)에 대한 정보입니다.',\n",
       " 'rule_tm02': '축구장,족구장,론볼장',\n",
       " 'rule_7bjs': '2020-12-24',\n",
       " 'rule_6wxm': '2020-12-24',\n",
       " 'rule_vzh2': '문화체육관광 - 체육',\n",
       " 'rule_duje': '무료',\n",
       " 'rule_6bf0': 2,\n",
       " '2': 2}"
      ]
     },
     "execution_count": 86,
     "metadata": {},
     "output_type": "execute_result"
    }
   ],
   "source": [
    "dict2"
   ]
  },
  {
   "cell_type": "code",
   "execution_count": 95,
   "metadata": {
    "scrolled": true
   },
   "outputs": [
    {
     "name": "stdout",
     "output_type": "stream",
     "text": [
      "rule_gva0 인천광역시 중구_제1회 백범 김구 서예대전\n",
      "rule_f33n https://www.icjg.go.kr/tour/cths0601c\n",
      "rule_706q 대한민국 임시정부 수립 101주년을 맞아 임정 수립과 독립에 중추적인 역할을 한 민족지도자 백범 김구 선생의 정신을 기리고 독립운동의 역사를 재조명하고자 개최된「제1회 백범 김구 서예대전」의 입선 작품과 심사위원 작품, 중국작가 기증 작품을  온라인 전시\n",
      "rule_tm02 온라인,전시,작품\n",
      "rule_7bjs 2020-12-22\n",
      "rule_6wxm 2020-12-22\n",
      "rule_vzh2 문화체육관광 - 문화예술\n",
      "rule_duje 무료\n",
      "rule_6bf0 https://www.icjg.go.kr/tour/cths0601c\n"
     ]
    }
   ],
   "source": [
    "for k, v in di.items():\n",
    "    print(k,v)\n",
    "    di[k] = ''.join(v)"
   ]
  },
  {
   "cell_type": "code",
   "execution_count": 99,
   "metadata": {},
   "outputs": [
    {
     "data": {
      "text/plain": [
       "{'rule_gva0': '인천광역시 중구_제1회 백범 김구 서예대전',\n",
       " 'rule_f33n': 'https://www.icjg.go.kr/tour/cths0601c',\n",
       " 'rule_706q': '대한민국 임시정부 수립 101주년을 맞아 임정 수립과 독립에 중추적인 역할을 한 민족지도자 백범 김구 선생의 정신을 기리고 독립운동의 역사를 재조명하고자 개최된「제1회 백범 김구 서예대전」의 입선 작품과 심사위원 작품, 중국작가 기증 작품을  온라인 전시',\n",
       " 'rule_tm02': '온라인,전시,작품',\n",
       " 'rule_7bjs': '2020-12-22',\n",
       " 'rule_6wxm': '2020-12-22',\n",
       " 'rule_vzh2': '문화체육관광 - 문화예술',\n",
       " 'rule_duje': '무료',\n",
       " 'rule_6bf0': 'https://www.icjg.go.kr/tour/cths0601c'}"
      ]
     },
     "execution_count": 99,
     "metadata": {},
     "output_type": "execute_result"
    }
   ],
   "source": [
    "di"
   ]
  },
  {
   "cell_type": "code",
   "execution_count": 101,
   "metadata": {},
   "outputs": [
    {
     "data": {
      "text/plain": [
       "{'인천광역시 중구_제1회 백범 김구 서예대전': 'rule_gva0',\n",
       " 'https://www.icjg.go.kr/tour/cths0601c': 'rule_6bf0',\n",
       " '대한민국 임시정부 수립 101주년을 맞아 임정 수립과 독립에 중추적인 역할을 한 민족지도자 백범 김구 선생의 정신을 기리고 독립운동의 역사를 재조명하고자 개최된「제1회 백범 김구 서예대전」의 입선 작품과 심사위원 작품, 중국작가 기증 작품을  온라인 전시': 'rule_706q',\n",
       " '온라인,전시,작품': 'rule_tm02',\n",
       " '2020-12-22': 'rule_6wxm',\n",
       " '문화체육관광 - 문화예술': 'rule_vzh2',\n",
       " '무료': 'rule_duje'}"
      ]
     },
     "execution_count": 101,
     "metadata": {},
     "output_type": "execute_result"
    }
   ],
   "source": [
    "dict_reverse = {v: k for k, v in di.items()}\n",
    "dict_reverse"
   ]
  },
  {
   "cell_type": "code",
   "execution_count": 107,
   "metadata": {},
   "outputs": [
    {
     "data": {
      "text/plain": [
       "'rule_gva0'"
      ]
     },
     "execution_count": 107,
     "metadata": {},
     "output_type": "execute_result"
    }
   ],
   "source": [
    "dict_reverse.get('인천광역시 중구_제1회 백범 김구 서예대전')"
   ]
  },
  {
   "cell_type": "code",
   "execution_count": 109,
   "metadata": {},
   "outputs": [
    {
     "data": {
      "text/plain": [
       "'rule_gva0'"
      ]
     },
     "execution_count": 109,
     "metadata": {},
     "output_type": "execute_result"
    }
   ],
   "source": [
    "dict_reverse.get(a)"
   ]
  },
  {
   "cell_type": "code",
   "execution_count": 110,
   "metadata": {},
   "outputs": [
    {
     "data": {
      "text/plain": [
       "{'rule_gva0': '광주광역시 북구_실외체육시설현황',\n",
       " 'rule_f33n': '광주광역시 북구에 위치한 실외체육시설현황(시설구분,주소, 규격)에 대한 정보입니다.',\n",
       " 'rule_706q': '광주광역시 북구에 위치한 실외체육시설현황(시설구분,주소, 규격)에 대한 정보입니다.',\n",
       " 'rule_tm02': '축구장,족구장,론볼장',\n",
       " 'rule_7bjs': '2020-12-24',\n",
       " 'rule_6wxm': '2020-12-24',\n",
       " 'rule_vzh2': '문화체육관광 - 체육',\n",
       " 'rule_duje': '무료',\n",
       " 'rule_6bf0': 2,\n",
       " '2': 2}"
      ]
     },
     "execution_count": 110,
     "metadata": {},
     "output_type": "execute_result"
    }
   ],
   "source": [
    "dict2"
   ]
  },
  {
   "cell_type": "code",
   "execution_count": 147,
   "metadata": {
    "scrolled": true
   },
   "outputs": [
    {
     "ename": "ValueError",
     "evalue": "3 columns passed, passed data had 2 columns",
     "output_type": "error",
     "traceback": [
      "\u001b[1;31m---------------------------------------------------------------------------\u001b[0m",
      "\u001b[1;31mAssertionError\u001b[0m                            Traceback (most recent call last)",
      "\u001b[1;32m~\\anaconda3\\lib\\site-packages\\pandas\\core\\internals\\construction.py\u001b[0m in \u001b[0;36m_list_to_arrays\u001b[1;34m(data, columns, coerce_float, dtype)\u001b[0m\n\u001b[0;32m    495\u001b[0m     \u001b[1;32mtry\u001b[0m\u001b[1;33m:\u001b[0m\u001b[1;33m\u001b[0m\u001b[1;33m\u001b[0m\u001b[0m\n\u001b[1;32m--> 496\u001b[1;33m         result = _convert_object_array(\n\u001b[0m\u001b[0;32m    497\u001b[0m             \u001b[0mcontent\u001b[0m\u001b[1;33m,\u001b[0m \u001b[0mcolumns\u001b[0m\u001b[1;33m,\u001b[0m \u001b[0mdtype\u001b[0m\u001b[1;33m=\u001b[0m\u001b[0mdtype\u001b[0m\u001b[1;33m,\u001b[0m \u001b[0mcoerce_float\u001b[0m\u001b[1;33m=\u001b[0m\u001b[0mcoerce_float\u001b[0m\u001b[1;33m\u001b[0m\u001b[1;33m\u001b[0m\u001b[0m\n",
      "\u001b[1;32m~\\anaconda3\\lib\\site-packages\\pandas\\core\\internals\\construction.py\u001b[0m in \u001b[0;36m_convert_object_array\u001b[1;34m(content, columns, coerce_float, dtype)\u001b[0m\n\u001b[0;32m    579\u001b[0m             \u001b[1;31m# caller's responsibility to check for this...\u001b[0m\u001b[1;33m\u001b[0m\u001b[1;33m\u001b[0m\u001b[1;33m\u001b[0m\u001b[0m\n\u001b[1;32m--> 580\u001b[1;33m             raise AssertionError(\n\u001b[0m\u001b[0;32m    581\u001b[0m                 \u001b[1;34mf\"{len(columns)} columns passed, passed data had \"\u001b[0m\u001b[1;33m\u001b[0m\u001b[1;33m\u001b[0m\u001b[0m\n",
      "\u001b[1;31mAssertionError\u001b[0m: 3 columns passed, passed data had 2 columns",
      "\nThe above exception was the direct cause of the following exception:\n",
      "\u001b[1;31mValueError\u001b[0m                                Traceback (most recent call last)",
      "\u001b[1;32m<ipython-input-147-c3284502c333>\u001b[0m in \u001b[0;36m<module>\u001b[1;34m\u001b[0m\n\u001b[0;32m      1\u001b[0m \u001b[0mlist1\u001b[0m \u001b[1;33m=\u001b[0m \u001b[1;33m[\u001b[0m\u001b[1;34m'a'\u001b[0m\u001b[1;33m,\u001b[0m\u001b[1;34m'2'\u001b[0m\u001b[1;33m]\u001b[0m\u001b[1;33m\u001b[0m\u001b[1;33m\u001b[0m\u001b[0m\n\u001b[0;32m      2\u001b[0m \u001b[0mlist2\u001b[0m \u001b[1;33m=\u001b[0m \u001b[1;33m[\u001b[0m\u001b[1;34m'2'\u001b[0m\u001b[1;33m,\u001b[0m\u001b[1;34m'1'\u001b[0m\u001b[1;33m,\u001b[0m\u001b[1;34m'3'\u001b[0m\u001b[1;33m]\u001b[0m\u001b[1;33m\u001b[0m\u001b[1;33m\u001b[0m\u001b[0m\n\u001b[1;32m----> 3\u001b[1;33m \u001b[0mpd\u001b[0m\u001b[1;33m.\u001b[0m\u001b[0mDataFrame\u001b[0m\u001b[1;33m(\u001b[0m\u001b[1;33m[\u001b[0m\u001b[0mlist1\u001b[0m\u001b[1;33m]\u001b[0m\u001b[1;33m,\u001b[0m\u001b[0mcolumns\u001b[0m\u001b[1;33m=\u001b[0m\u001b[0mlist2\u001b[0m\u001b[1;33m)\u001b[0m\u001b[1;33m\u001b[0m\u001b[1;33m\u001b[0m\u001b[0m\n\u001b[0m",
      "\u001b[1;32m~\\anaconda3\\lib\\site-packages\\pandas\\core\\frame.py\u001b[0m in \u001b[0;36m__init__\u001b[1;34m(self, data, index, columns, dtype, copy)\u001b[0m\n\u001b[0;32m    472\u001b[0m                     \u001b[1;32mif\u001b[0m \u001b[0mis_named_tuple\u001b[0m\u001b[1;33m(\u001b[0m\u001b[0mdata\u001b[0m\u001b[1;33m[\u001b[0m\u001b[1;36m0\u001b[0m\u001b[1;33m]\u001b[0m\u001b[1;33m)\u001b[0m \u001b[1;32mand\u001b[0m \u001b[0mcolumns\u001b[0m \u001b[1;32mis\u001b[0m \u001b[1;32mNone\u001b[0m\u001b[1;33m:\u001b[0m\u001b[1;33m\u001b[0m\u001b[1;33m\u001b[0m\u001b[0m\n\u001b[0;32m    473\u001b[0m                         \u001b[0mcolumns\u001b[0m \u001b[1;33m=\u001b[0m \u001b[0mdata\u001b[0m\u001b[1;33m[\u001b[0m\u001b[1;36m0\u001b[0m\u001b[1;33m]\u001b[0m\u001b[1;33m.\u001b[0m\u001b[0m_fields\u001b[0m\u001b[1;33m\u001b[0m\u001b[1;33m\u001b[0m\u001b[0m\n\u001b[1;32m--> 474\u001b[1;33m                     \u001b[0marrays\u001b[0m\u001b[1;33m,\u001b[0m \u001b[0mcolumns\u001b[0m \u001b[1;33m=\u001b[0m \u001b[0mto_arrays\u001b[0m\u001b[1;33m(\u001b[0m\u001b[0mdata\u001b[0m\u001b[1;33m,\u001b[0m \u001b[0mcolumns\u001b[0m\u001b[1;33m,\u001b[0m \u001b[0mdtype\u001b[0m\u001b[1;33m=\u001b[0m\u001b[0mdtype\u001b[0m\u001b[1;33m)\u001b[0m\u001b[1;33m\u001b[0m\u001b[1;33m\u001b[0m\u001b[0m\n\u001b[0m\u001b[0;32m    475\u001b[0m                     \u001b[0mcolumns\u001b[0m \u001b[1;33m=\u001b[0m \u001b[0mensure_index\u001b[0m\u001b[1;33m(\u001b[0m\u001b[0mcolumns\u001b[0m\u001b[1;33m)\u001b[0m\u001b[1;33m\u001b[0m\u001b[1;33m\u001b[0m\u001b[0m\n\u001b[0;32m    476\u001b[0m \u001b[1;33m\u001b[0m\u001b[0m\n",
      "\u001b[1;32m~\\anaconda3\\lib\\site-packages\\pandas\\core\\internals\\construction.py\u001b[0m in \u001b[0;36mto_arrays\u001b[1;34m(data, columns, coerce_float, dtype)\u001b[0m\n\u001b[0;32m    459\u001b[0m         \u001b[1;32mreturn\u001b[0m \u001b[1;33m[\u001b[0m\u001b[1;33m]\u001b[0m\u001b[1;33m,\u001b[0m \u001b[1;33m[\u001b[0m\u001b[1;33m]\u001b[0m  \u001b[1;31m# columns if columns is not None else []\u001b[0m\u001b[1;33m\u001b[0m\u001b[1;33m\u001b[0m\u001b[0m\n\u001b[0;32m    460\u001b[0m     \u001b[1;32mif\u001b[0m \u001b[0misinstance\u001b[0m\u001b[1;33m(\u001b[0m\u001b[0mdata\u001b[0m\u001b[1;33m[\u001b[0m\u001b[1;36m0\u001b[0m\u001b[1;33m]\u001b[0m\u001b[1;33m,\u001b[0m \u001b[1;33m(\u001b[0m\u001b[0mlist\u001b[0m\u001b[1;33m,\u001b[0m \u001b[0mtuple\u001b[0m\u001b[1;33m)\u001b[0m\u001b[1;33m)\u001b[0m\u001b[1;33m:\u001b[0m\u001b[1;33m\u001b[0m\u001b[1;33m\u001b[0m\u001b[0m\n\u001b[1;32m--> 461\u001b[1;33m         \u001b[1;32mreturn\u001b[0m \u001b[0m_list_to_arrays\u001b[0m\u001b[1;33m(\u001b[0m\u001b[0mdata\u001b[0m\u001b[1;33m,\u001b[0m \u001b[0mcolumns\u001b[0m\u001b[1;33m,\u001b[0m \u001b[0mcoerce_float\u001b[0m\u001b[1;33m=\u001b[0m\u001b[0mcoerce_float\u001b[0m\u001b[1;33m,\u001b[0m \u001b[0mdtype\u001b[0m\u001b[1;33m=\u001b[0m\u001b[0mdtype\u001b[0m\u001b[1;33m)\u001b[0m\u001b[1;33m\u001b[0m\u001b[1;33m\u001b[0m\u001b[0m\n\u001b[0m\u001b[0;32m    462\u001b[0m     \u001b[1;32melif\u001b[0m \u001b[0misinstance\u001b[0m\u001b[1;33m(\u001b[0m\u001b[0mdata\u001b[0m\u001b[1;33m[\u001b[0m\u001b[1;36m0\u001b[0m\u001b[1;33m]\u001b[0m\u001b[1;33m,\u001b[0m \u001b[0mabc\u001b[0m\u001b[1;33m.\u001b[0m\u001b[0mMapping\u001b[0m\u001b[1;33m)\u001b[0m\u001b[1;33m:\u001b[0m\u001b[1;33m\u001b[0m\u001b[1;33m\u001b[0m\u001b[0m\n\u001b[0;32m    463\u001b[0m         return _list_of_dict_to_arrays(\n",
      "\u001b[1;32m~\\anaconda3\\lib\\site-packages\\pandas\\core\\internals\\construction.py\u001b[0m in \u001b[0;36m_list_to_arrays\u001b[1;34m(data, columns, coerce_float, dtype)\u001b[0m\n\u001b[0;32m    498\u001b[0m         )\n\u001b[0;32m    499\u001b[0m     \u001b[1;32mexcept\u001b[0m \u001b[0mAssertionError\u001b[0m \u001b[1;32mas\u001b[0m \u001b[0me\u001b[0m\u001b[1;33m:\u001b[0m\u001b[1;33m\u001b[0m\u001b[1;33m\u001b[0m\u001b[0m\n\u001b[1;32m--> 500\u001b[1;33m         \u001b[1;32mraise\u001b[0m \u001b[0mValueError\u001b[0m\u001b[1;33m(\u001b[0m\u001b[0me\u001b[0m\u001b[1;33m)\u001b[0m \u001b[1;32mfrom\u001b[0m \u001b[0me\u001b[0m\u001b[1;33m\u001b[0m\u001b[1;33m\u001b[0m\u001b[0m\n\u001b[0m\u001b[0;32m    501\u001b[0m     \u001b[1;32mreturn\u001b[0m \u001b[0mresult\u001b[0m\u001b[1;33m\u001b[0m\u001b[1;33m\u001b[0m\u001b[0m\n\u001b[0;32m    502\u001b[0m \u001b[1;33m\u001b[0m\u001b[0m\n",
      "\u001b[1;31mValueError\u001b[0m: 3 columns passed, passed data had 2 columns"
     ]
    }
   ],
   "source": [
    "list1 = ['a','2']\n",
    "list2 = ['2','1','3']\n",
    "pd.DataFrame([list1],columns=list2)"
   ]
  },
  {
   "cell_type": "code",
   "execution_count": 140,
   "metadata": {},
   "outputs": [
    {
     "data": {
      "text/plain": [
       "[['a', 'b', 'c'], ['a', 'b', 'c']]"
      ]
     },
     "execution_count": 140,
     "metadata": {},
     "output_type": "execute_result"
    }
   ],
   "source": [
    "all_data.append(list1)\n",
    "list(all_data)"
   ]
  },
  {
   "cell_type": "code",
   "execution_count": 173,
   "metadata": {},
   "outputs": [
    {
     "data": {
      "text/html": [
       "<div>\n",
       "<style scoped>\n",
       "    .dataframe tbody tr th:only-of-type {\n",
       "        vertical-align: middle;\n",
       "    }\n",
       "\n",
       "    .dataframe tbody tr th {\n",
       "        vertical-align: top;\n",
       "    }\n",
       "\n",
       "    .dataframe thead th {\n",
       "        text-align: right;\n",
       "    }\n",
       "</style>\n",
       "<table border=\"1\" class=\"dataframe\">\n",
       "  <thead>\n",
       "    <tr style=\"text-align: right;\">\n",
       "      <th></th>\n",
       "      <th>0</th>\n",
       "      <th>1</th>\n",
       "    </tr>\n",
       "  </thead>\n",
       "  <tbody>\n",
       "    <tr>\n",
       "      <th>0</th>\n",
       "      <td>a</td>\n",
       "      <td>2</td>\n",
       "    </tr>\n",
       "  </tbody>\n",
       "</table>\n",
       "</div>"
      ],
      "text/plain": [
       "   0  1\n",
       "0  a  2"
      ]
     },
     "execution_count": 173,
     "metadata": {},
     "output_type": "execute_result"
    }
   ],
   "source": [
    "pd.DataFrame([list1])"
   ]
  },
  {
   "cell_type": "code",
   "execution_count": 174,
   "metadata": {},
   "outputs": [
    {
     "data": {
      "text/plain": [
       "['a', '2']"
      ]
     },
     "execution_count": 174,
     "metadata": {},
     "output_type": "execute_result"
    }
   ],
   "source": [
    "list1"
   ]
  },
  {
   "cell_type": "code",
   "execution_count": 175,
   "metadata": {},
   "outputs": [
    {
     "data": {
      "text/html": [
       "<div>\n",
       "<style scoped>\n",
       "    .dataframe tbody tr th:only-of-type {\n",
       "        vertical-align: middle;\n",
       "    }\n",
       "\n",
       "    .dataframe tbody tr th {\n",
       "        vertical-align: top;\n",
       "    }\n",
       "\n",
       "    .dataframe thead th {\n",
       "        text-align: right;\n",
       "    }\n",
       "</style>\n",
       "<table border=\"1\" class=\"dataframe\">\n",
       "  <thead>\n",
       "    <tr style=\"text-align: right;\">\n",
       "      <th></th>\n",
       "      <th>0</th>\n",
       "      <th>1</th>\n",
       "    </tr>\n",
       "  </thead>\n",
       "  <tbody>\n",
       "    <tr>\n",
       "      <th>0</th>\n",
       "      <td>b</td>\n",
       "      <td>True</td>\n",
       "    </tr>\n",
       "  </tbody>\n",
       "</table>\n",
       "</div>"
      ],
      "text/plain": [
       "   0     1\n",
       "0  b  True"
      ]
     },
     "execution_count": 175,
     "metadata": {},
     "output_type": "execute_result"
    }
   ],
   "source": [
    "list2 =['b',True]\n",
    "pd.DataFrame([list2])"
   ]
  },
  {
   "cell_type": "code",
   "execution_count": 180,
   "metadata": {},
   "outputs": [
    {
     "data": {
      "text/plain": [
       "[['a', '2'], ['b', True]]"
      ]
     },
     "execution_count": 180,
     "metadata": {},
     "output_type": "execute_result"
    }
   ],
   "source": [
    "all_data = []\n",
    "all_data.append(list1)\n",
    "\n",
    "all_data.append(list2)\n",
    "all_data"
   ]
  },
  {
   "cell_type": "code",
   "execution_count": 196,
   "metadata": {},
   "outputs": [],
   "source": [
    "all_data.append(['23','11','1'])"
   ]
  },
  {
   "cell_type": "code",
   "execution_count": 198,
   "metadata": {
    "scrolled": true
   },
   "outputs": [
    {
     "ename": "ValueError",
     "evalue": "2 columns passed, passed data had 3 columns",
     "output_type": "error",
     "traceback": [
      "\u001b[1;31m---------------------------------------------------------------------------\u001b[0m",
      "\u001b[1;31mAssertionError\u001b[0m                            Traceback (most recent call last)",
      "\u001b[1;32m~\\anaconda3\\lib\\site-packages\\pandas\\core\\internals\\construction.py\u001b[0m in \u001b[0;36m_list_to_arrays\u001b[1;34m(data, columns, coerce_float, dtype)\u001b[0m\n\u001b[0;32m    495\u001b[0m     \u001b[1;32mtry\u001b[0m\u001b[1;33m:\u001b[0m\u001b[1;33m\u001b[0m\u001b[1;33m\u001b[0m\u001b[0m\n\u001b[1;32m--> 496\u001b[1;33m         result = _convert_object_array(\n\u001b[0m\u001b[0;32m    497\u001b[0m             \u001b[0mcontent\u001b[0m\u001b[1;33m,\u001b[0m \u001b[0mcolumns\u001b[0m\u001b[1;33m,\u001b[0m \u001b[0mdtype\u001b[0m\u001b[1;33m=\u001b[0m\u001b[0mdtype\u001b[0m\u001b[1;33m,\u001b[0m \u001b[0mcoerce_float\u001b[0m\u001b[1;33m=\u001b[0m\u001b[0mcoerce_float\u001b[0m\u001b[1;33m\u001b[0m\u001b[1;33m\u001b[0m\u001b[0m\n",
      "\u001b[1;32m~\\anaconda3\\lib\\site-packages\\pandas\\core\\internals\\construction.py\u001b[0m in \u001b[0;36m_convert_object_array\u001b[1;34m(content, columns, coerce_float, dtype)\u001b[0m\n\u001b[0;32m    579\u001b[0m             \u001b[1;31m# caller's responsibility to check for this...\u001b[0m\u001b[1;33m\u001b[0m\u001b[1;33m\u001b[0m\u001b[1;33m\u001b[0m\u001b[0m\n\u001b[1;32m--> 580\u001b[1;33m             raise AssertionError(\n\u001b[0m\u001b[0;32m    581\u001b[0m                 \u001b[1;34mf\"{len(columns)} columns passed, passed data had \"\u001b[0m\u001b[1;33m\u001b[0m\u001b[1;33m\u001b[0m\u001b[0m\n",
      "\u001b[1;31mAssertionError\u001b[0m: 2 columns passed, passed data had 3 columns",
      "\nThe above exception was the direct cause of the following exception:\n",
      "\u001b[1;31mValueError\u001b[0m                                Traceback (most recent call last)",
      "\u001b[1;32m<ipython-input-198-cc624bfaae33>\u001b[0m in \u001b[0;36m<module>\u001b[1;34m\u001b[0m\n\u001b[0;32m      1\u001b[0m \u001b[1;32mfor\u001b[0m \u001b[0mj\u001b[0m \u001b[1;32min\u001b[0m \u001b[0mall_data\u001b[0m\u001b[1;33m:\u001b[0m\u001b[1;33m\u001b[0m\u001b[1;33m\u001b[0m\u001b[0m\n\u001b[0;32m      2\u001b[0m     \u001b[1;32mfor\u001b[0m \u001b[0mi\u001b[0m \u001b[1;32min\u001b[0m \u001b[0mrange\u001b[0m\u001b[1;33m(\u001b[0m\u001b[1;36m0\u001b[0m\u001b[1;33m,\u001b[0m\u001b[0mlen\u001b[0m\u001b[1;33m(\u001b[0m\u001b[0mall_data\u001b[0m\u001b[1;33m)\u001b[0m\u001b[1;33m)\u001b[0m\u001b[1;33m:\u001b[0m\u001b[1;33m\u001b[0m\u001b[1;33m\u001b[0m\u001b[0m\n\u001b[1;32m----> 3\u001b[1;33m         \u001b[0mi\u001b[0m \u001b[1;33m=\u001b[0m \u001b[0mpd\u001b[0m\u001b[1;33m.\u001b[0m\u001b[0mDataFrame\u001b[0m\u001b[1;33m(\u001b[0m\u001b[1;33m[\u001b[0m\u001b[0mj\u001b[0m\u001b[1;33m]\u001b[0m\u001b[1;33m,\u001b[0m\u001b[0mcolumns\u001b[0m\u001b[1;33m=\u001b[0m\u001b[1;33m[\u001b[0m\u001b[1;34m'1'\u001b[0m\u001b[1;33m,\u001b[0m\u001b[1;34m'2'\u001b[0m\u001b[1;33m]\u001b[0m\u001b[1;33m)\u001b[0m\u001b[1;33m\u001b[0m\u001b[1;33m\u001b[0m\u001b[0m\n\u001b[0m\u001b[0;32m      4\u001b[0m         \u001b[0mdataframe_list\u001b[0m\u001b[1;33m.\u001b[0m\u001b[0mappend\u001b[0m\u001b[1;33m(\u001b[0m\u001b[0mi\u001b[0m\u001b[1;33m)\u001b[0m\u001b[1;33m\u001b[0m\u001b[1;33m\u001b[0m\u001b[0m\n\u001b[0;32m      5\u001b[0m \u001b[0mpd\u001b[0m\u001b[1;33m.\u001b[0m\u001b[0mconcat\u001b[0m\u001b[1;33m(\u001b[0m\u001b[0mdataframe_list\u001b[0m\u001b[1;33m)\u001b[0m\u001b[1;33m\u001b[0m\u001b[1;33m\u001b[0m\u001b[0m\n",
      "\u001b[1;32m~\\anaconda3\\lib\\site-packages\\pandas\\core\\frame.py\u001b[0m in \u001b[0;36m__init__\u001b[1;34m(self, data, index, columns, dtype, copy)\u001b[0m\n\u001b[0;32m    472\u001b[0m                     \u001b[1;32mif\u001b[0m \u001b[0mis_named_tuple\u001b[0m\u001b[1;33m(\u001b[0m\u001b[0mdata\u001b[0m\u001b[1;33m[\u001b[0m\u001b[1;36m0\u001b[0m\u001b[1;33m]\u001b[0m\u001b[1;33m)\u001b[0m \u001b[1;32mand\u001b[0m \u001b[0mcolumns\u001b[0m \u001b[1;32mis\u001b[0m \u001b[1;32mNone\u001b[0m\u001b[1;33m:\u001b[0m\u001b[1;33m\u001b[0m\u001b[1;33m\u001b[0m\u001b[0m\n\u001b[0;32m    473\u001b[0m                         \u001b[0mcolumns\u001b[0m \u001b[1;33m=\u001b[0m \u001b[0mdata\u001b[0m\u001b[1;33m[\u001b[0m\u001b[1;36m0\u001b[0m\u001b[1;33m]\u001b[0m\u001b[1;33m.\u001b[0m\u001b[0m_fields\u001b[0m\u001b[1;33m\u001b[0m\u001b[1;33m\u001b[0m\u001b[0m\n\u001b[1;32m--> 474\u001b[1;33m                     \u001b[0marrays\u001b[0m\u001b[1;33m,\u001b[0m \u001b[0mcolumns\u001b[0m \u001b[1;33m=\u001b[0m \u001b[0mto_arrays\u001b[0m\u001b[1;33m(\u001b[0m\u001b[0mdata\u001b[0m\u001b[1;33m,\u001b[0m \u001b[0mcolumns\u001b[0m\u001b[1;33m,\u001b[0m \u001b[0mdtype\u001b[0m\u001b[1;33m=\u001b[0m\u001b[0mdtype\u001b[0m\u001b[1;33m)\u001b[0m\u001b[1;33m\u001b[0m\u001b[1;33m\u001b[0m\u001b[0m\n\u001b[0m\u001b[0;32m    475\u001b[0m                     \u001b[0mcolumns\u001b[0m \u001b[1;33m=\u001b[0m \u001b[0mensure_index\u001b[0m\u001b[1;33m(\u001b[0m\u001b[0mcolumns\u001b[0m\u001b[1;33m)\u001b[0m\u001b[1;33m\u001b[0m\u001b[1;33m\u001b[0m\u001b[0m\n\u001b[0;32m    476\u001b[0m \u001b[1;33m\u001b[0m\u001b[0m\n",
      "\u001b[1;32m~\\anaconda3\\lib\\site-packages\\pandas\\core\\internals\\construction.py\u001b[0m in \u001b[0;36mto_arrays\u001b[1;34m(data, columns, coerce_float, dtype)\u001b[0m\n\u001b[0;32m    459\u001b[0m         \u001b[1;32mreturn\u001b[0m \u001b[1;33m[\u001b[0m\u001b[1;33m]\u001b[0m\u001b[1;33m,\u001b[0m \u001b[1;33m[\u001b[0m\u001b[1;33m]\u001b[0m  \u001b[1;31m# columns if columns is not None else []\u001b[0m\u001b[1;33m\u001b[0m\u001b[1;33m\u001b[0m\u001b[0m\n\u001b[0;32m    460\u001b[0m     \u001b[1;32mif\u001b[0m \u001b[0misinstance\u001b[0m\u001b[1;33m(\u001b[0m\u001b[0mdata\u001b[0m\u001b[1;33m[\u001b[0m\u001b[1;36m0\u001b[0m\u001b[1;33m]\u001b[0m\u001b[1;33m,\u001b[0m \u001b[1;33m(\u001b[0m\u001b[0mlist\u001b[0m\u001b[1;33m,\u001b[0m \u001b[0mtuple\u001b[0m\u001b[1;33m)\u001b[0m\u001b[1;33m)\u001b[0m\u001b[1;33m:\u001b[0m\u001b[1;33m\u001b[0m\u001b[1;33m\u001b[0m\u001b[0m\n\u001b[1;32m--> 461\u001b[1;33m         \u001b[1;32mreturn\u001b[0m \u001b[0m_list_to_arrays\u001b[0m\u001b[1;33m(\u001b[0m\u001b[0mdata\u001b[0m\u001b[1;33m,\u001b[0m \u001b[0mcolumns\u001b[0m\u001b[1;33m,\u001b[0m \u001b[0mcoerce_float\u001b[0m\u001b[1;33m=\u001b[0m\u001b[0mcoerce_float\u001b[0m\u001b[1;33m,\u001b[0m \u001b[0mdtype\u001b[0m\u001b[1;33m=\u001b[0m\u001b[0mdtype\u001b[0m\u001b[1;33m)\u001b[0m\u001b[1;33m\u001b[0m\u001b[1;33m\u001b[0m\u001b[0m\n\u001b[0m\u001b[0;32m    462\u001b[0m     \u001b[1;32melif\u001b[0m \u001b[0misinstance\u001b[0m\u001b[1;33m(\u001b[0m\u001b[0mdata\u001b[0m\u001b[1;33m[\u001b[0m\u001b[1;36m0\u001b[0m\u001b[1;33m]\u001b[0m\u001b[1;33m,\u001b[0m \u001b[0mabc\u001b[0m\u001b[1;33m.\u001b[0m\u001b[0mMapping\u001b[0m\u001b[1;33m)\u001b[0m\u001b[1;33m:\u001b[0m\u001b[1;33m\u001b[0m\u001b[1;33m\u001b[0m\u001b[0m\n\u001b[0;32m    463\u001b[0m         return _list_of_dict_to_arrays(\n",
      "\u001b[1;32m~\\anaconda3\\lib\\site-packages\\pandas\\core\\internals\\construction.py\u001b[0m in \u001b[0;36m_list_to_arrays\u001b[1;34m(data, columns, coerce_float, dtype)\u001b[0m\n\u001b[0;32m    498\u001b[0m         )\n\u001b[0;32m    499\u001b[0m     \u001b[1;32mexcept\u001b[0m \u001b[0mAssertionError\u001b[0m \u001b[1;32mas\u001b[0m \u001b[0me\u001b[0m\u001b[1;33m:\u001b[0m\u001b[1;33m\u001b[0m\u001b[1;33m\u001b[0m\u001b[0m\n\u001b[1;32m--> 500\u001b[1;33m         \u001b[1;32mraise\u001b[0m \u001b[0mValueError\u001b[0m\u001b[1;33m(\u001b[0m\u001b[0me\u001b[0m\u001b[1;33m)\u001b[0m \u001b[1;32mfrom\u001b[0m \u001b[0me\u001b[0m\u001b[1;33m\u001b[0m\u001b[1;33m\u001b[0m\u001b[0m\n\u001b[0m\u001b[0;32m    501\u001b[0m     \u001b[1;32mreturn\u001b[0m \u001b[0mresult\u001b[0m\u001b[1;33m\u001b[0m\u001b[1;33m\u001b[0m\u001b[0m\n\u001b[0;32m    502\u001b[0m \u001b[1;33m\u001b[0m\u001b[0m\n",
      "\u001b[1;31mValueError\u001b[0m: 2 columns passed, passed data had 3 columns"
     ]
    }
   ],
   "source": [
    "for j in all_data:\n",
    "    for i in range(0,len(all_data)):\n",
    "        i = pd.DataFrame([j],columns=['1','2'])\n",
    "        dataframe_list.append(i)\n",
    "pd.concat(dataframe_list)"
   ]
  },
  {
   "cell_type": "code",
   "execution_count": 186,
   "metadata": {},
   "outputs": [
    {
     "data": {
      "text/html": [
       "<div>\n",
       "<style scoped>\n",
       "    .dataframe tbody tr th:only-of-type {\n",
       "        vertical-align: middle;\n",
       "    }\n",
       "\n",
       "    .dataframe tbody tr th {\n",
       "        vertical-align: top;\n",
       "    }\n",
       "\n",
       "    .dataframe thead th {\n",
       "        text-align: right;\n",
       "    }\n",
       "</style>\n",
       "<table border=\"1\" class=\"dataframe\">\n",
       "  <thead>\n",
       "    <tr style=\"text-align: right;\">\n",
       "      <th></th>\n",
       "      <th>a</th>\n",
       "      <th>b</th>\n",
       "      <th>c</th>\n",
       "    </tr>\n",
       "  </thead>\n",
       "  <tbody>\n",
       "    <tr>\n",
       "      <th>0</th>\n",
       "      <td>a</td>\n",
       "      <td>2</td>\n",
       "      <td>NaN</td>\n",
       "    </tr>\n",
       "    <tr>\n",
       "      <th>0</th>\n",
       "      <td>b</td>\n",
       "      <td>NaN</td>\n",
       "      <td>True</td>\n",
       "    </tr>\n",
       "  </tbody>\n",
       "</table>\n",
       "</div>"
      ],
      "text/plain": [
       "   a    b     c\n",
       "0  a    2   NaN\n",
       "0  b  NaN  True"
      ]
     },
     "execution_count": 186,
     "metadata": {},
     "output_type": "execute_result"
    }
   ],
   "source": [
    "pd.concat([pd.DataFrame([list1],columns=['a','b']), pd.DataFrame([list2],columns=['a','c'])])"
   ]
  },
  {
   "cell_type": "code",
   "execution_count": 178,
   "metadata": {},
   "outputs": [
    {
     "data": {
      "text/plain": [
       "[{'content': [['html', {'class': '', 'style': ''}, 0],\n",
       "   ['body', {'class': '', 'style': ''}, 0],\n",
       "   ['div', {'class': ['wrapper'], 'style': ''}, 0],\n",
       "   ['div', {'class': ['container'], 'style': ''}, 0],\n",
       "   ['div', {'class': ['content-layout'], 'style': ''}, 0],\n",
       "   ['div', {'class': '', 'style': ''}, 0],\n",
       "   ['div', {'class': ['data-search-view'], 'style': ''}, 0],\n",
       "   ['div', {'class': ['data-set-title'], 'style': ''}, 0],\n",
       "   ['div', {'class': ['tit-area'], 'style': ''}, 0],\n",
       "   ['p', {'class': ['tit'], 'style': ''}]],\n",
       "  'wanted_attr': None,\n",
       "  'is_full_url': None,\n",
       "  'is_non_rec_text': None,\n",
       "  'url': '',\n",
       "  'hash': 'c002025cb18321e53581c1cf0d5f07d991845e374b267b87852518e702c09aa8',\n",
       "  'stack_id': 'rule_gva0',\n",
       "  'alias': ''},\n",
       " {'content': [['html', {'class': '', 'style': ''}, 0],\n",
       "   ['body', {'class': '', 'style': ''}, 0],\n",
       "   ['div', {'class': ['wrapper'], 'style': ''}, 0],\n",
       "   ['div', {'class': ['container'], 'style': ''}, 0],\n",
       "   ['div', {'class': ['content-layout'], 'style': ''}, 0],\n",
       "   ['div', {'class': '', 'style': ''}, 0],\n",
       "   ['div', {'class': ['data-search-view'], 'style': ''}, 0],\n",
       "   ['table', {'class': ['dataset-table', 'fileDataDetail'], 'style': ''}, 5],\n",
       "   ['tr', {'class': ['bg-skyblue'], 'style': ''}, 0],\n",
       "   ['td', {'class': '', 'style': ''}, 0],\n",
       "   ['div', {'class': ['inner-table'], 'style': ''}, 0],\n",
       "   ['div', {'class': ['inner-tr'], 'style': ''}, 0],\n",
       "   ['div', {'class': ['td'], 'style': ''}]],\n",
       "  'wanted_attr': None,\n",
       "  'is_full_url': None,\n",
       "  'is_non_rec_text': None,\n",
       "  'url': '',\n",
       "  'hash': '5769cfdcc3af31af8fe722a82db377f0b62152c0c20def426f0ccac8639cca09',\n",
       "  'stack_id': 'rule_f33n',\n",
       "  'alias': ''},\n",
       " {'content': [['html', {'class': '', 'style': ''}, 0],\n",
       "   ['body', {'class': '', 'style': ''}, 0],\n",
       "   ['div', {'class': ['wrapper'], 'style': ''}, 0],\n",
       "   ['div', {'class': ['container'], 'style': ''}, 0],\n",
       "   ['div', {'class': ['content-layout'], 'style': ''}, 0],\n",
       "   ['div', {'class': '', 'style': ''}, 0],\n",
       "   ['div', {'class': ['data-search-view'], 'style': ''}, 0],\n",
       "   ['div', {'class': ['data-set-title'], 'style': ''}, 0],\n",
       "   ['div', {'class': ['cont'], 'style': ''}]],\n",
       "  'wanted_attr': None,\n",
       "  'is_full_url': None,\n",
       "  'is_non_rec_text': None,\n",
       "  'url': '',\n",
       "  'hash': '4cfa98920f5062c53d635108995d759ed8f756dd0c4708de9808ae48fe37ac0d',\n",
       "  'stack_id': 'rule_706q',\n",
       "  'alias': ''},\n",
       " {'content': [['html', {'class': '', 'style': ''}, 0],\n",
       "   ['body', {'class': '', 'style': ''}, 0],\n",
       "   ['div', {'class': ['wrapper'], 'style': ''}, 0],\n",
       "   ['div', {'class': ['container'], 'style': ''}, 0],\n",
       "   ['div', {'class': ['content-layout'], 'style': ''}, 0],\n",
       "   ['div', {'class': '', 'style': ''}, 0],\n",
       "   ['div', {'class': ['data-search-view'], 'style': ''}, 0],\n",
       "   ['table', {'class': ['dataset-table', 'fileDataDetail'], 'style': ''}, 2],\n",
       "   ['tr', {'class': ['bg-skyblue'], 'style': ''}, 1],\n",
       "   ['td', {'class': '', 'style': ''}, 0],\n",
       "   ['div', {'class': ['inner-table'], 'style': ''}, 0],\n",
       "   ['div', {'class': ['inner-tr'], 'style': ''}, 0],\n",
       "   ['div', {'class': ['td'], 'style': ''}]],\n",
       "  'wanted_attr': None,\n",
       "  'is_full_url': None,\n",
       "  'is_non_rec_text': None,\n",
       "  'url': '',\n",
       "  'hash': '8334d0426cf4d7f84da193924545c145cfa01c1b4df15f55490bf6944b5c68a2',\n",
       "  'stack_id': 'rule_tm02',\n",
       "  'alias': ''},\n",
       " {'content': [['html', {'class': '', 'style': ''}, 0],\n",
       "   ['body', {'class': '', 'style': ''}, 0],\n",
       "   ['div', {'class': ['wrapper'], 'style': ''}, 0],\n",
       "   ['div', {'class': ['container'], 'style': ''}, 0],\n",
       "   ['div', {'class': ['content-layout'], 'style': ''}, 0],\n",
       "   ['div', {'class': '', 'style': ''}, 0],\n",
       "   ['div', {'class': ['data-search-view'], 'style': ''}, 0],\n",
       "   ['table', {'class': ['dataset-table', 'fileDataDetail'], 'style': ''}, 3],\n",
       "   ['tr', {'class': ['bg-skyblue'], 'style': ''}, 1],\n",
       "   ['td', {'class': '', 'style': ''}, 0],\n",
       "   ['div', {'class': ['inner-table'], 'style': ''}, 0],\n",
       "   ['div', {'class': ['inner-tr'], 'style': ''}, 0],\n",
       "   ['div', {'class': ['td'], 'style': ''}]],\n",
       "  'wanted_attr': None,\n",
       "  'is_full_url': None,\n",
       "  'is_non_rec_text': None,\n",
       "  'url': '',\n",
       "  'hash': 'cfa4315d72b0273b12cfa69b82052311f071ece4207a67983a1101f70e21922d',\n",
       "  'stack_id': 'rule_7bjs',\n",
       "  'alias': ''},\n",
       " {'content': [['html', {'class': '', 'style': ''}, 0],\n",
       "   ['body', {'class': '', 'style': ''}, 0],\n",
       "   ['div', {'class': ['wrapper'], 'style': ''}, 0],\n",
       "   ['div', {'class': ['container'], 'style': ''}, 0],\n",
       "   ['div', {'class': ['content-layout'], 'style': ''}, 0],\n",
       "   ['div', {'class': '', 'style': ''}, 0],\n",
       "   ['div', {'class': ['data-search-view'], 'style': ''}, 0],\n",
       "   ['table', {'class': ['dataset-table', 'fileDataDetail'], 'style': ''}, 3],\n",
       "   ['tr', {'class': ['bg-skyblue'], 'style': ''}, 0],\n",
       "   ['td', {'class': '', 'style': ''}, 0],\n",
       "   ['div', {'class': ['inner-table'], 'style': ''}, 0],\n",
       "   ['div', {'class': ['inner-tr'], 'style': ''}, 0],\n",
       "   ['div', {'class': ['td'], 'style': ''}]],\n",
       "  'wanted_attr': None,\n",
       "  'is_full_url': None,\n",
       "  'is_non_rec_text': None,\n",
       "  'url': '',\n",
       "  'hash': 'f61d8c16604577111a75a4d1e3b8037c5c5619785b92e7c4d86a7b9a4f5d5d3d',\n",
       "  'stack_id': 'rule_6wxm',\n",
       "  'alias': ''},\n",
       " {'content': [['html', {'class': '', 'style': ''}, 0],\n",
       "   ['body', {'class': '', 'style': ''}, 0],\n",
       "   ['div', {'class': ['wrapper'], 'style': ''}, 0],\n",
       "   ['div', {'class': ['container'], 'style': ''}, 0],\n",
       "   ['div', {'class': ['content-layout'], 'style': ''}, 0],\n",
       "   ['div', {'class': '', 'style': ''}, 0],\n",
       "   ['div', {'class': ['data-search-view'], 'style': ''}, 0],\n",
       "   ['table', {'class': ['dataset-table', 'fileDataDetail'], 'style': ''}, 1],\n",
       "   ['tr', {'class': ['bg-beige'], 'style': ''}, 0],\n",
       "   ['td', {'class': '', 'style': ''}, 0],\n",
       "   ['div', {'class': ['inner-table'], 'style': ''}, 0],\n",
       "   ['div', {'class': ['inner-tr'], 'style': ''}, 0],\n",
       "   ['div', {'class': ['td'], 'style': ''}]],\n",
       "  'wanted_attr': None,\n",
       "  'is_full_url': None,\n",
       "  'is_non_rec_text': None,\n",
       "  'url': '',\n",
       "  'hash': '7847a199a9e94159eb569971bbeee5f953da8c9db5816ab0586b88ac58183b36',\n",
       "  'stack_id': 'rule_vzh2',\n",
       "  'alias': ''},\n",
       " {'content': [['html', {'class': '', 'style': ''}, 0],\n",
       "   ['body', {'class': '', 'style': ''}, 0],\n",
       "   ['div', {'class': ['wrapper'], 'style': ''}, 0],\n",
       "   ['div', {'class': ['container'], 'style': ''}, 0],\n",
       "   ['div', {'class': ['content-layout'], 'style': ''}, 0],\n",
       "   ['div', {'class': '', 'style': ''}, 0],\n",
       "   ['div', {'class': ['data-search-view'], 'style': ''}, 0],\n",
       "   ['table', {'class': ['dataset-table', 'fileDataDetail'], 'style': ''}, 0],\n",
       "   ['tr', {'class': ['bg-green'], 'style': ''}, 0],\n",
       "   ['td', {'class': '', 'style': ''}, 0],\n",
       "   ['div', {'class': ['inner-table'], 'style': ''}, 0],\n",
       "   ['div', {'class': ['inner-tr'], 'style': ''}, 0],\n",
       "   ['div', {'class': ['td'], 'style': ''}]],\n",
       "  'wanted_attr': None,\n",
       "  'is_full_url': None,\n",
       "  'is_non_rec_text': None,\n",
       "  'url': '',\n",
       "  'hash': 'dbc54def9d9fcd90f7e8bd039427417750d547aaa1cc6b24e10f49b27def3a1a',\n",
       "  'stack_id': 'rule_duje',\n",
       "  'alias': ''},\n",
       " {'content': [['html', {'class': '', 'style': ''}, 0],\n",
       "   ['body', {'class': '', 'style': ''}, 0],\n",
       "   ['div', {'class': ['wrapper'], 'style': ''}, 0],\n",
       "   ['div', {'class': ['container'], 'style': ''}, 0],\n",
       "   ['div', {'class': ['content-layout'], 'style': ''}, 0],\n",
       "   ['div', {'class': '', 'style': ''}, 0],\n",
       "   ['div', {'class': ['data-search-view'], 'style': ''}, 0],\n",
       "   ['div', {'class': ['data-set-title'], 'style': ''}, 0],\n",
       "   ['div', {'class': ['btn-util'], 'style': ''}, 0],\n",
       "   ['div', {'class': ['d-flex', 'flex-flow'], 'style': ''}, 0],\n",
       "   ['a', {'class': ['button', 'mb-3'], 'style': ''}]],\n",
       "  'wanted_attr': 'href',\n",
       "  'is_full_url': None,\n",
       "  'is_non_rec_text': None,\n",
       "  'url': '',\n",
       "  'hash': 'e248593143c35f87101c71aec1e1011dce7fbfaf5997db0e42fa87e91fc73da6',\n",
       "  'stack_id': 'rule_6bf0',\n",
       "  'alias': ''}]"
      ]
     },
     "execution_count": 178,
     "metadata": {},
     "output_type": "execute_result"
    }
   ],
   "source": [
    "scraper.stack_list"
   ]
  },
  {
   "cell_type": "code",
   "execution_count": 171,
   "metadata": {},
   "outputs": [
    {
     "ename": "TypeError",
     "evalue": "insert() missing 1 required positional argument: 'loc'",
     "output_type": "error",
     "traceback": [
      "\u001b[1;31m---------------------------------------------------------------------------\u001b[0m",
      "\u001b[1;31mTypeError\u001b[0m                                 Traceback (most recent call last)",
      "\u001b[1;32m<ipython-input-171-bcae5d71be0b>\u001b[0m in \u001b[0;36m<module>\u001b[1;34m\u001b[0m\n\u001b[0;32m      1\u001b[0m \u001b[0mdf321\u001b[0m \u001b[1;33m=\u001b[0m \u001b[0mpd\u001b[0m\u001b[1;33m.\u001b[0m\u001b[0mDataFrame\u001b[0m\u001b[1;33m(\u001b[0m\u001b[0mcolumns\u001b[0m\u001b[1;33m=\u001b[0m\u001b[1;33m[\u001b[0m\u001b[1;34m'0'\u001b[0m\u001b[1;33m,\u001b[0m\u001b[1;34m'1'\u001b[0m\u001b[1;33m]\u001b[0m\u001b[1;33m)\u001b[0m\u001b[1;33m\u001b[0m\u001b[1;33m\u001b[0m\u001b[0m\n\u001b[1;32m----> 2\u001b[1;33m \u001b[0mdf321\u001b[0m\u001b[1;33m.\u001b[0m\u001b[0minsert\u001b[0m\u001b[1;33m(\u001b[0m\u001b[0mvalue\u001b[0m\u001b[1;33m=\u001b[0m\u001b[0mlist1\u001b[0m\u001b[1;33m,\u001b[0m\u001b[0mcolumn\u001b[0m\u001b[1;33m=\u001b[0m\u001b[1;33m[\u001b[0m\u001b[1;34m'0'\u001b[0m\u001b[1;33m,\u001b[0m\u001b[1;34m'1'\u001b[0m\u001b[1;33m]\u001b[0m\u001b[1;33m)\u001b[0m\u001b[1;33m\u001b[0m\u001b[1;33m\u001b[0m\u001b[0m\n\u001b[0m",
      "\u001b[1;31mTypeError\u001b[0m: insert() missing 1 required positional argument: 'loc'"
     ]
    }
   ],
   "source": [
    "df321 = pd.DataFrame(columns=['0','1'])\n",
    "df321.insert(list1,column=)"
   ]
  },
  {
   "cell_type": "code",
   "execution_count": 141,
   "metadata": {},
   "outputs": [
    {
     "data": {
      "text/html": [
       "<div>\n",
       "<style scoped>\n",
       "    .dataframe tbody tr th:only-of-type {\n",
       "        vertical-align: middle;\n",
       "    }\n",
       "\n",
       "    .dataframe tbody tr th {\n",
       "        vertical-align: top;\n",
       "    }\n",
       "\n",
       "    .dataframe thead th {\n",
       "        text-align: right;\n",
       "    }\n",
       "</style>\n",
       "<table border=\"1\" class=\"dataframe\">\n",
       "  <thead>\n",
       "    <tr style=\"text-align: right;\">\n",
       "      <th></th>\n",
       "      <th>2</th>\n",
       "      <th>1</th>\n",
       "      <th>3</th>\n",
       "    </tr>\n",
       "  </thead>\n",
       "  <tbody>\n",
       "    <tr>\n",
       "      <th>0</th>\n",
       "      <td>a</td>\n",
       "      <td>b</td>\n",
       "      <td>c</td>\n",
       "    </tr>\n",
       "    <tr>\n",
       "      <th>1</th>\n",
       "      <td>a</td>\n",
       "      <td>b</td>\n",
       "      <td>c</td>\n",
       "    </tr>\n",
       "  </tbody>\n",
       "</table>\n",
       "</div>"
      ],
      "text/plain": [
       "   2  1  3\n",
       "0  a  b  c\n",
       "1  a  b  c"
      ]
     },
     "execution_count": 141,
     "metadata": {},
     "output_type": "execute_result"
    }
   ],
   "source": [
    "pd.DataFrame(all_data,columns=list2)"
   ]
  },
  {
   "cell_type": "code",
   "execution_count": 125,
   "metadata": {},
   "outputs": [
    {
     "data": {
      "text/html": [
       "<div>\n",
       "<style scoped>\n",
       "    .dataframe tbody tr th:only-of-type {\n",
       "        vertical-align: middle;\n",
       "    }\n",
       "\n",
       "    .dataframe tbody tr th {\n",
       "        vertical-align: top;\n",
       "    }\n",
       "\n",
       "    .dataframe thead th {\n",
       "        text-align: right;\n",
       "    }\n",
       "</style>\n",
       "<table border=\"1\" class=\"dataframe\">\n",
       "  <thead>\n",
       "    <tr style=\"text-align: right;\">\n",
       "      <th></th>\n",
       "      <th>Quantity</th>\n",
       "      <th>FruitName</th>\n",
       "    </tr>\n",
       "  </thead>\n",
       "  <tbody>\n",
       "    <tr>\n",
       "      <th>0</th>\n",
       "      <td>rule_gva0</td>\n",
       "      <td>광주광역시 북구_실외체육시설현황</td>\n",
       "    </tr>\n",
       "    <tr>\n",
       "      <th>1</th>\n",
       "      <td>rule_f33n</td>\n",
       "      <td>광주광역시 북구에 위치한 실외체육시설ᄒ...</td>\n",
       "    </tr>\n",
       "    <tr>\n",
       "      <th>2</th>\n",
       "      <td>rule_706q</td>\n",
       "      <td>광주광역시 북구에 위치한 실외체육시설ᄒ...</td>\n",
       "    </tr>\n",
       "    <tr>\n",
       "      <th>3</th>\n",
       "      <td>rule_tm02</td>\n",
       "      <td>축구장,족구장,론볼장</td>\n",
       "    </tr>\n",
       "    <tr>\n",
       "      <th>4</th>\n",
       "      <td>rule_7bjs</td>\n",
       "      <td>2020-12-24</td>\n",
       "    </tr>\n",
       "    <tr>\n",
       "      <th>5</th>\n",
       "      <td>rule_6wxm</td>\n",
       "      <td>2020-12-24</td>\n",
       "    </tr>\n",
       "    <tr>\n",
       "      <th>6</th>\n",
       "      <td>rule_vzh2</td>\n",
       "      <td>문화체육관광 - 체육</td>\n",
       "    </tr>\n",
       "    <tr>\n",
       "      <th>7</th>\n",
       "      <td>rule_duje</td>\n",
       "      <td>무료</td>\n",
       "    </tr>\n",
       "    <tr>\n",
       "      <th>8</th>\n",
       "      <td>rule_6bf0</td>\n",
       "      <td>2</td>\n",
       "    </tr>\n",
       "    <tr>\n",
       "      <th>9</th>\n",
       "      <td>2</td>\n",
       "      <td>2</td>\n",
       "    </tr>\n",
       "  </tbody>\n",
       "</table>\n",
       "</div>"
      ],
      "text/plain": [
       "    Quantity                                          FruitName\n",
       "0  rule_gva0          광주광역시 북구_실외체육시설현황\n",
       "1  rule_f33n  광주광역시 북구에 위치한 실외체육시설ᄒ...\n",
       "2  rule_706q  광주광역시 북구에 위치한 실외체육시설ᄒ...\n",
       "3  rule_tm02                        축구장,족구장,론볼장\n",
       "4  rule_7bjs                                         2020-12-24\n",
       "5  rule_6wxm                                         2020-12-24\n",
       "6  rule_vzh2                           문화체육관광 - 체육\n",
       "7  rule_duje                                               무료\n",
       "8  rule_6bf0                                                  2\n",
       "9          2                                                  2"
      ]
     },
     "execution_count": 125,
     "metadata": {},
     "output_type": "execute_result"
    }
   ],
   "source": [
    "pd.DataFrame(list(dict2.items()),columns=['Quantity', 'FruitName'])"
   ]
  },
  {
   "cell_type": "code",
   "execution_count": 123,
   "metadata": {},
   "outputs": [
    {
     "data": {
      "text/html": [
       "<div>\n",
       "<style scoped>\n",
       "    .dataframe tbody tr th:only-of-type {\n",
       "        vertical-align: middle;\n",
       "    }\n",
       "\n",
       "    .dataframe tbody tr th {\n",
       "        vertical-align: top;\n",
       "    }\n",
       "\n",
       "    .dataframe thead th {\n",
       "        text-align: right;\n",
       "    }\n",
       "</style>\n",
       "<table border=\"1\" class=\"dataframe\">\n",
       "  <thead>\n",
       "    <tr style=\"text-align: right;\">\n",
       "      <th></th>\n",
       "      <th>내용</th>\n",
       "    </tr>\n",
       "  </thead>\n",
       "  <tbody>\n",
       "    <tr>\n",
       "      <th>rule_gva0</th>\n",
       "      <td>인천광역시 중구_제1회 백범 김구 서예대전</td>\n",
       "    </tr>\n",
       "    <tr>\n",
       "      <th>rule_f33n</th>\n",
       "      <td>https://www.icjg.go.kr/tour/cths0601c</td>\n",
       "    </tr>\n",
       "    <tr>\n",
       "      <th>rule_706q</th>\n",
       "      <td>대한민국 임시정부 수립 101주년을 맞아...</td>\n",
       "    </tr>\n",
       "    <tr>\n",
       "      <th>rule_tm02</th>\n",
       "      <td>온라인,전시,작품</td>\n",
       "    </tr>\n",
       "    <tr>\n",
       "      <th>rule_7bjs</th>\n",
       "      <td>2020-12-22</td>\n",
       "    </tr>\n",
       "    <tr>\n",
       "      <th>rule_6wxm</th>\n",
       "      <td>2020-12-22</td>\n",
       "    </tr>\n",
       "    <tr>\n",
       "      <th>rule_vzh2</th>\n",
       "      <td>문화체육관광 - 문화예술</td>\n",
       "    </tr>\n",
       "    <tr>\n",
       "      <th>rule_duje</th>\n",
       "      <td>무료</td>\n",
       "    </tr>\n",
       "    <tr>\n",
       "      <th>rule_6bf0</th>\n",
       "      <td>https://www.icjg.go.kr/tour/cths0601c</td>\n",
       "    </tr>\n",
       "  </tbody>\n",
       "</table>\n",
       "</div>"
      ],
      "text/plain": [
       "                                                          내용\n",
       "rule_gva0  인천광역시 중구_제1회 백범 김구 서예대전\n",
       "rule_f33n              https://www.icjg.go.kr/tour/cths0601c\n",
       "rule_706q  대한민국 임시정부 수립 101주년을 맞아...\n",
       "rule_tm02                              온라인,전시,작품\n",
       "rule_7bjs                                         2020-12-22\n",
       "rule_6wxm                                         2020-12-22\n",
       "rule_vzh2                      문화체육관광 - 문화예술\n",
       "rule_duje                                               무료\n",
       "rule_6bf0              https://www.icjg.go.kr/tour/cths0601c"
      ]
     },
     "execution_count": 123,
     "metadata": {},
     "output_type": "execute_result"
    }
   ],
   "source": [
    "pd.DataFrame.from_dict(dic2, orient='index', columns=['내용'])"
   ]
  },
  {
   "cell_type": "code",
   "execution_count": 83,
   "metadata": {},
   "outputs": [
    {
     "data": {
      "text/plain": [
       "{'rule_gva0': '광주광역시 북구_실외체육시설현황',\n",
       " 'rule_f33n': '광주광역시 북구에 위치한 실외체육시설현황(시설구분,주소, 규격)에 대한 정보입니다.',\n",
       " 'rule_706q': '광주광역시 북구에 위치한 실외체육시설현황(시설구분,주소, 규격)에 대한 정보입니다.',\n",
       " 'rule_tm02': '축구장,족구장,론볼장',\n",
       " 'rule_7bjs': '2020-12-24',\n",
       " 'rule_6wxm': '2020-12-24',\n",
       " 'rule_vzh2': '문화체육관광 - 체육',\n",
       " 'rule_duje': '무료',\n",
       " 'rule_6bf0': 2,\n",
       " '2': 2}"
      ]
     },
     "execution_count": 83,
     "metadata": {},
     "output_type": "execute_result"
    }
   ],
   "source": [
    "dict2"
   ]
  },
  {
   "cell_type": "code",
   "execution_count": null,
   "metadata": {},
   "outputs": [],
   "source": [
    "''.join(scrape_new['rule_gva0'])"
   ]
  },
  {
   "cell_type": "code",
   "execution_count": 305,
   "metadata": {},
   "outputs": [
    {
     "data": {
      "text/plain": [
       "{'rule_gva0': ['인천광역시 중구_제1회 백범 김구 서예대전'],\n",
       " 'rule_f33n': ['https://www.icjg.go.kr/tour/cths0601c'],\n",
       " 'rule_706q': ['대한민국 임시정부 수립 101주년을 맞아 임정 수립과 독립에 중추적인 역할을 한 민족지도자 백범 김구 선생의 정신을 기리고 독립운동의 역사를 재조명하고자 개최된「제1회 백범 김구 서예대전」의 입선 작품과 심사위원 작품, 중국작가 기증 작품을  온라인 전시'],\n",
       " 'rule_tm02': ['온라인,전시,작품'],\n",
       " 'rule_7bjs': ['2020-12-22'],\n",
       " 'rule_6wxm': ['2020-12-22'],\n",
       " 'rule_vzh2': ['문화체육관광 - 문화예술'],\n",
       " 'rule_duje': ['무료']}"
      ]
     },
     "execution_count": 305,
     "metadata": {},
     "output_type": "execute_result"
    }
   ],
   "source": [
    "results2[1]"
   ]
  },
  {
   "cell_type": "markdown",
   "metadata": {},
   "source": [
    "# 추가 학습"
   ]
  },
  {
   "cell_type": "code",
   "execution_count": 306,
   "metadata": {},
   "outputs": [],
   "source": [
    "from autoscraper import AutoScraper\n",
    "\n",
    "data = [\n",
    "   # some Ebay examples\n",
    "   #('https://www.data.go.kr/data/15075824/fileData.do', ['세종특별자치시_업종별 통합허가대상사업장', '세종특별자치시 대기배출시설 인허가 2종 이상 사업장(업체명, 소재지, 전화번호 등)입니다.','044-300-2413','대기,배출,허가','2021-01-06','환경 - 대기', '무료']),\n",
    "   #('https://www.data.go.kr/data/15075786/fileData.do', ['전라북도 정읍시_농산물산지유통센터 현황','전라북도 정읍시에 소재한 농산물 산지유통센터 현황 중 기관명, 개장일, 사업장주소, 취급품목, 담당부서, 담당부서전화 자료제공','063-539-5403','농산물,산지유통,APC','2021-01-06','농림 - 농업·농촌','무료']),\n",
    "   ('https://www.data.go.kr/data/15075101/fileData.do', ['인천광역시 중구_제1회 백범 김구 서예대전','대한민국 임시정부 수립 101주년을 맞아 임정 수립과 독립에 중추적인 역할을 한 민족지도자 백범 김구 선생의 정신을 기리고 독립운동의 역사를 재조명하고자 개최된「제1회 백범 김구 서예대전」의 입선 작품과 심사위원 작품, 중국작가 기증 작품을 온라인 전시','032-760-7114','온라인,전시,작품','2020-12-22','문화체육관광 - 문화예술','무료','https://www.icjg.go.kr/tour/cths0601c']),\n",
    "   \n",
    "]\n",
    "\n",
    "#scraper = AutoScraper()\n",
    "for url, wanted_list in data:\n",
    "    scraper.build(url=url, wanted_list=wanted_list, update=True)"
   ]
  },
  {
   "cell_type": "code",
   "execution_count": 307,
   "metadata": {},
   "outputs": [],
   "source": [
    "results2=[]\n",
    "for i in range(0,10):\n",
    "    results2.append(scraper.get_result_exact(f'https://www.data.go.kr/data/1507510{i}/fileData.do', grouped=True))"
   ]
  },
  {
   "cell_type": "code",
   "execution_count": null,
   "metadata": {},
   "outputs": [],
   "source": []
  },
  {
   "cell_type": "code",
   "execution_count": 311,
   "metadata": {},
   "outputs": [],
   "source": [
    "scraper.save('public_data')"
   ]
  },
  {
   "cell_type": "code",
   "execution_count": 2,
   "metadata": {},
   "outputs": [],
   "source": [
    "scraper.load('public_data')"
   ]
  },
  {
   "cell_type": "code",
   "execution_count": 308,
   "metadata": {},
   "outputs": [
    {
     "data": {
      "text/plain": [
       "{'rule_gva0': ['광주광역시 북구_실외체육시설현황'],\n",
       " 'rule_f33n': ['광주광역시 북구에 위치한 실외체육시설현황(시설구분,주소, 규격)에 대한 정보입니다.'],\n",
       " 'rule_706q': ['광주광역시 북구에 위치한 실외체육시설현황(시설구분,주소, 규격)에 대한 정보입니다.'],\n",
       " 'rule_tm02': ['축구장,족구장,론볼장'],\n",
       " 'rule_7bjs': ['2020-12-24'],\n",
       " 'rule_6wxm': ['2020-12-24'],\n",
       " 'rule_vzh2': ['문화체육관광 - 체육'],\n",
       " 'rule_duje': ['무료'],\n",
       " 'rule_6bf0': ['javascript:void(0)']}"
      ]
     },
     "execution_count": 308,
     "metadata": {},
     "output_type": "execute_result"
    }
   ],
   "source": [
    "results2[2]"
   ]
  },
  {
   "cell_type": "code",
   "execution_count": 88,
   "metadata": {},
   "outputs": [],
   "source": [
    "di = results2[1]"
   ]
  },
  {
   "cell_type": "code",
   "execution_count": 162,
   "metadata": {},
   "outputs": [
    {
     "data": {
      "text/plain": [
       "{'rule_5xkn': [],\n",
       " 'rule_kfgl': [],\n",
       " 'rule_atm5': [],\n",
       " 'rule_wo6g': [],\n",
       " 'rule_pgvz': [],\n",
       " 'rule_gwh4': [],\n",
       " 'rule_o3g0': [],\n",
       " 'rule_6vte': [],\n",
       " 'rule_6rg1': []}"
      ]
     },
     "execution_count": 162,
     "metadata": {},
     "output_type": "execute_result"
    }
   ],
   "source": [
    "scraper.get_result_exact(f'https://www.data.go.kr/data/15075101/fileData.do', grouped=True,attr_fuzz_ratio=0.3)"
   ]
  },
  {
   "cell_type": "code",
   "execution_count": 103,
   "metadata": {
    "scrolled": true
   },
   "outputs": [
    {
     "data": {
      "text/plain": [
       "{'rule_5xkn': ['전라북도 정읍시_농산물산지유통센터 현황'],\n",
       " 'rule_kfgl': ['전라북도 정읍시에 소재한 농산물 산지유통센터 현황 중  기관명, 개장일, 사업장주소, 취급품목, 담당부서, 담당부서전화 자료제공'],\n",
       " 'rule_atm5': ['전라북도 정읍시에 소재한 농산물 산지유통센터 현황 중  기관명, 개장일, 사업장주소, 취급품목, 담당부서, 담당부서전화 자료제공'],\n",
       " 'rule_wo6g': ['농산물,산지유통,APC'],\n",
       " 'rule_pgvz': ['2021-01-06'],\n",
       " 'rule_gwh4': ['2021-01-06'],\n",
       " 'rule_o3g0': ['농림 - 농업·농촌'],\n",
       " 'rule_6vte': ['무료'],\n",
       " 'rule_6rg1': ['javascript:void(0)']}"
      ]
     },
     "execution_count": 103,
     "metadata": {},
     "output_type": "execute_result"
    }
   ],
   "source": [
    "scraper.get_result_exact(f'https://www.data.go.kr/data/15075786/fileData.do', grouped=True)"
   ]
  },
  {
   "cell_type": "code",
   "execution_count": 3,
   "metadata": {},
   "outputs": [],
   "source": [
    "results=[]"
   ]
  },
  {
   "cell_type": "code",
   "execution_count": 4,
   "metadata": {},
   "outputs": [],
   "source": [
    "scrape_new = scraper.get_result_exact('https://www.data.go.kr/data/15075101/fileData.do', grouped=True)\n",
    "name = ''.join(scrape_new['rule_gva0'])\n",
    "content = ''.join(scrape_new['rule_706q'])\n",
    "tag = ''.join(scrape_new['rule_tm02'])\n",
    "enroll = ''.join(scrape_new['rule_7bjs'])\n",
    "category = ''.join(scrape_new['rule_vzh2'])\n",
    "money = ''.join(scrape_new['rule_duje'])\n",
    "website = ''.join(scrape_new['rule_6bf0'])"
   ]
  },
  {
   "cell_type": "code",
   "execution_count": 6,
   "metadata": {},
   "outputs": [
    {
     "data": {
      "text/html": [
       "<div>\n",
       "<style scoped>\n",
       "    .dataframe tbody tr th:only-of-type {\n",
       "        vertical-align: middle;\n",
       "    }\n",
       "\n",
       "    .dataframe tbody tr th {\n",
       "        vertical-align: top;\n",
       "    }\n",
       "\n",
       "    .dataframe thead th {\n",
       "        text-align: right;\n",
       "    }\n",
       "</style>\n",
       "<table border=\"1\" class=\"dataframe\">\n",
       "  <thead>\n",
       "    <tr style=\"text-align: right;\">\n",
       "      <th></th>\n",
       "      <th>파일명</th>\n",
       "      <th>설명</th>\n",
       "      <th>태그</th>\n",
       "      <th>등록일</th>\n",
       "      <th>카테고리</th>\n",
       "      <th>가격</th>\n",
       "      <th>주소</th>\n",
       "    </tr>\n",
       "  </thead>\n",
       "  <tbody>\n",
       "    <tr>\n",
       "      <th>0</th>\n",
       "      <td>인천광역시 중구_제1회 백범 김구 서예대전</td>\n",
       "      <td>대한민국 임시정부 수립 101주년을 맞아...</td>\n",
       "      <td>온라인,전시,작품</td>\n",
       "      <td>2020-12-22</td>\n",
       "      <td>문화체육관광 - 문화예술</td>\n",
       "      <td>무료</td>\n",
       "      <td>https://www.icjg.go.kr/tour/cths0601c</td>\n",
       "    </tr>\n",
       "    <tr>\n",
       "      <th>1</th>\n",
       "      <td>인천광역시 중구_제1회 백범 김구 서예대전</td>\n",
       "      <td>대한민국 임시정부 수립 101주년을 맞아...</td>\n",
       "      <td>온라인,전시,작품</td>\n",
       "      <td>2020-12-22</td>\n",
       "      <td>문화체육관광 - 문화예술</td>\n",
       "      <td>무료</td>\n",
       "      <td>https://www.icjg.go.kr/tour/cths0601c</td>\n",
       "    </tr>\n",
       "  </tbody>\n",
       "</table>\n",
       "</div>"
      ],
      "text/plain": [
       "                                                 파일명  \\\n",
       "0  인천광역시 중구_제1회 백범 김구 서예대전   \n",
       "1  인천광역시 중구_제1회 백범 김구 서예대전   \n",
       "\n",
       "                                                  설명                     태그  \\\n",
       "0  대한민국 임시정부 수립 101주년을 맞아...  온라인,전시,작품   \n",
       "1  대한민국 임시정부 수립 101주년을 맞아...  온라인,전시,작품   \n",
       "\n",
       "          등록일                           카테고리    가격  \\\n",
       "0  2020-12-22  문화체육관광 - 문화예술  무료   \n",
       "1  2020-12-22  문화체육관광 - 문화예술  무료   \n",
       "\n",
       "                                      주소  \n",
       "0  https://www.icjg.go.kr/tour/cths0601c  \n",
       "1  https://www.icjg.go.kr/tour/cths0601c  "
      ]
     },
     "execution_count": 6,
     "metadata": {},
     "output_type": "execute_result"
    }
   ],
   "source": [
    "import pandas as pd\n",
    "results.append((name, content, tag, enroll, category, money, website))\n",
    "\n",
    "df = pd.DataFrame(results, columns=['파일명', '설명', '태그', '등록일', '카테고리', '가격', '주소'])\n",
    "df"
   ]
  },
  {
   "cell_type": "code",
   "execution_count": 8,
   "metadata": {},
   "outputs": [
    {
     "name": "stdout",
     "output_type": "stream",
     "text": [
      "1\n",
      "2\n"
     ]
    }
   ],
   "source": [
    "x = input()\n",
    "y = input()"
   ]
  },
  {
   "cell_type": "code",
   "execution_count": 11,
   "metadata": {},
   "outputs": [
    {
     "data": {
      "text/html": [
       "<div>\n",
       "<style scoped>\n",
       "    .dataframe tbody tr th:only-of-type {\n",
       "        vertical-align: middle;\n",
       "    }\n",
       "\n",
       "    .dataframe tbody tr th {\n",
       "        vertical-align: top;\n",
       "    }\n",
       "\n",
       "    .dataframe thead th {\n",
       "        text-align: right;\n",
       "    }\n",
       "</style>\n",
       "<table border=\"1\" class=\"dataframe\">\n",
       "  <thead>\n",
       "    <tr style=\"text-align: right;\">\n",
       "      <th></th>\n",
       "      <th>설명</th>\n",
       "      <th>태그</th>\n",
       "    </tr>\n",
       "  </thead>\n",
       "  <tbody>\n",
       "    <tr>\n",
       "      <th>0</th>\n",
       "      <td>대한민국 임시정부 수립 101주년을 맞아...</td>\n",
       "      <td>온라인,전시,작품</td>\n",
       "    </tr>\n",
       "    <tr>\n",
       "      <th>1</th>\n",
       "      <td>대한민국 임시정부 수립 101주년을 맞아...</td>\n",
       "      <td>온라인,전시,작품</td>\n",
       "    </tr>\n",
       "  </tbody>\n",
       "</table>\n",
       "</div>"
      ],
      "text/plain": [
       "                                                  설명                     태그\n",
       "0  대한민국 임시정부 수립 101주년을 맞아...  온라인,전시,작품\n",
       "1  대한민국 임시정부 수립 101주년을 맞아...  온라인,전시,작품"
      ]
     },
     "execution_count": 11,
     "metadata": {},
     "output_type": "execute_result"
    }
   ],
   "source": [
    "df.iloc[:,[int(x),int(y)]]"
   ]
  },
  {
   "cell_type": "code",
   "execution_count": null,
   "metadata": {},
   "outputs": [],
   "source": [
    "df[['태그','설명','파일명']]\n",
    "ㅑ 태그 설명 파일명 드록일 == ㅅㄱ뎌:\n",
    "    태그 설명"
   ]
  },
  {
   "cell_type": "code",
   "execution_count": 219,
   "metadata": {},
   "outputs": [
    {
     "data": {
      "text/plain": [
       "'경기도_경기주택도시공사 민원정보'"
      ]
     },
     "execution_count": 219,
     "metadata": {},
     "output_type": "execute_result"
    }
   ],
   "source": [
    "''.join(scrape_new['rule_5xkn'])"
   ]
  },
  {
   "cell_type": "code",
   "execution_count": 222,
   "metadata": {},
   "outputs": [
    {
     "name": "stdout",
     "output_type": "stream",
     "text": [
      "time : 5.112884283065796\n"
     ]
    }
   ],
   "source": [
    "import time\n",
    "results = []\n",
    "\n",
    "start = time.time()\n",
    "for i in range(0,10):\n",
    "    scrape_new = scraper.get_result_exact(f'https://www.data.go.kr/data/1507510{i}/fileData.do', grouped=True)\n",
    "    name = ''.join(scrape_new['rule_5xkn'])\n",
    "    content = ''.join(scrape_new['rule_atm5'])\n",
    "    tag = ''.join(scrape_new['rule_wo6g'])\n",
    "    enroll = ''.join(scrape_new['rule_pgvz'])\n",
    "    category = ''.join(scrape_new['rule_o3g0'])\n",
    "    money = ''.join(scrape_new['rule_6vte'])\n",
    "    website = ''.join(scrape_new['rule_6rg1'])\n",
    "    results.append((name,content,tag,enroll,category,money,website))\n",
    "\n",
    "print(\"time :\", time.time() - start)  # 현재시각 - 시작시간 = 실행 시간"
   ]
  },
  {
   "cell_type": "code",
   "execution_count": 223,
   "metadata": {
    "scrolled": false
   },
   "outputs": [
    {
     "data": {
      "text/html": [
       "<div>\n",
       "<style scoped>\n",
       "    .dataframe tbody tr th:only-of-type {\n",
       "        vertical-align: middle;\n",
       "    }\n",
       "\n",
       "    .dataframe tbody tr th {\n",
       "        vertical-align: top;\n",
       "    }\n",
       "\n",
       "    .dataframe thead th {\n",
       "        text-align: right;\n",
       "    }\n",
       "</style>\n",
       "<table border=\"1\" class=\"dataframe\">\n",
       "  <thead>\n",
       "    <tr style=\"text-align: right;\">\n",
       "      <th></th>\n",
       "      <th>파일명</th>\n",
       "      <th>설명</th>\n",
       "      <th>태그</th>\n",
       "      <th>등록일</th>\n",
       "      <th>카테고리</th>\n",
       "      <th>가격</th>\n",
       "      <th>주소</th>\n",
       "    </tr>\n",
       "  </thead>\n",
       "  <tbody>\n",
       "    <tr>\n",
       "      <th>0</th>\n",
       "      <td>보건복지부_사전연명의료의향서 등록기과...</td>\n",
       "      <td>사전연명의료의향서 등록기관으로 지정되...</td>\n",
       "      <td>연명의료,사전연명의료의향서,국립연명...</td>\n",
       "      <td>2021-01-06</td>\n",
       "      <td>보건 - 보건의료</td>\n",
       "      <td>무료</td>\n",
       "      <td>javascript:void(0)</td>\n",
       "    </tr>\n",
       "    <tr>\n",
       "      <th>1</th>\n",
       "      <td>인천광역시 중구_제1회 백범 김구 서예대전</td>\n",
       "      <td>대한민국 임시정부 수립 101주년을 맞아...</td>\n",
       "      <td>온라인,전시,작품</td>\n",
       "      <td>2020-12-22</td>\n",
       "      <td>문화체육관광 - 문화예술</td>\n",
       "      <td>무료</td>\n",
       "      <td>https://www.icjg.go.kr/tour/cths0601c</td>\n",
       "    </tr>\n",
       "    <tr>\n",
       "      <th>2</th>\n",
       "      <td>광주광역시 북구_실외체육시설현황</td>\n",
       "      <td>광주광역시 북구에 위치한 실외체육시설ᄒ...</td>\n",
       "      <td>축구장,족구장,론볼장</td>\n",
       "      <td>2020-12-24</td>\n",
       "      <td>문화체육관광 - 체육</td>\n",
       "      <td>무료</td>\n",
       "      <td>javascript:void(0)</td>\n",
       "    </tr>\n",
       "    <tr>\n",
       "      <th>3</th>\n",
       "      <td>보건복지부_의료기관윤리위원회 설치 의료ᄀ...</td>\n",
       "      <td>의료기관윤리위원회가 설치된 의료기관의 ᄌ...</td>\n",
       "      <td>연명의료,의료기관윤리위원회,국립연명ᄋ...</td>\n",
       "      <td>2020-12-22</td>\n",
       "      <td>보건 - 보건의료</td>\n",
       "      <td>무료</td>\n",
       "      <td>javascript:void(0)</td>\n",
       "    </tr>\n",
       "    <tr>\n",
       "      <th>4</th>\n",
       "      <td>보건복지부_사전연명의료의향서 등록 현황</td>\n",
       "      <td>사전연명의료의향서 등록 현황 (통보일...</td>\n",
       "      <td>연명의료,사전연명의료의향서,국립연명...</td>\n",
       "      <td>2020-12-22</td>\n",
       "      <td>보건 - 보건의료</td>\n",
       "      <td>무료</td>\n",
       "      <td>javascript:void(0)</td>\n",
       "    </tr>\n",
       "    <tr>\n",
       "      <th>5</th>\n",
       "      <td>보건복지부_연명의료계획서 등록 현황</td>\n",
       "      <td>연명의료계획서 등록 현황 (작성일, 화...</td>\n",
       "      <td>연명의료,연명의료계획서,국립연명의료ᄀ...</td>\n",
       "      <td>2020-12-22</td>\n",
       "      <td>보건 - 보건의료</td>\n",
       "      <td>무료</td>\n",
       "      <td>javascript:void(0)</td>\n",
       "    </tr>\n",
       "    <tr>\n",
       "      <th>6</th>\n",
       "      <td>경기도_경기아트센터 정기간행물 예술과ᄆ...</td>\n",
       "      <td>경기도 산하 공공기관인 경기아트센터 바...</td>\n",
       "      <td>예술,발간지,경기아트센터</td>\n",
       "      <td>2020-12-22</td>\n",
       "      <td>문화체육관광 - 문화체육관광일반</td>\n",
       "      <td>무료</td>\n",
       "      <td>https://data.gg.go.kr/portal/data/service/sele...</td>\n",
       "    </tr>\n",
       "    <tr>\n",
       "      <th>7</th>\n",
       "      <td>경기도_경기평택항만공사 부두시설 현황</td>\n",
       "      <td>경기도 산하 공공기관인 경기평택항만...</td>\n",
       "      <td>부두,항만,경기평택항만공사</td>\n",
       "      <td>2020-12-22</td>\n",
       "      <td>해양수산 - 해양수산·어촌</td>\n",
       "      <td>무료</td>\n",
       "      <td>https://data.gg.go.kr/portal/data/service/sele...</td>\n",
       "    </tr>\n",
       "    <tr>\n",
       "      <th>8</th>\n",
       "      <td>한국교육과정평가원_농어촌 소규모 초등...</td>\n",
       "      <td>본 연구의 목적은 농어촌 소규모 초등학...</td>\n",
       "      <td>KICE,연구보고서,국문초록</td>\n",
       "      <td>2020-12-22</td>\n",
       "      <td>교육 - 교육일반</td>\n",
       "      <td>무료</td>\n",
       "      <td>javascript:void(0)</td>\n",
       "    </tr>\n",
       "    <tr>\n",
       "      <th>9</th>\n",
       "      <td>경기도_경기주택도시공사 민원정보</td>\n",
       "      <td>경기도 산하 공공기관인 경기주택도시공...</td>\n",
       "      <td>민원,경기주택도시공사,주택단지</td>\n",
       "      <td>2020-12-22</td>\n",
       "      <td>일반공공행정 - 일반행정</td>\n",
       "      <td>무료</td>\n",
       "      <td>https://data.gg.go.kr/portal/data/service/sele...</td>\n",
       "    </tr>\n",
       "  </tbody>\n",
       "</table>\n",
       "</div>"
      ],
      "text/plain": [
       "                                                 파일명  \\\n",
       "0  보건복지부_사전연명의료의향서 등록기과...   \n",
       "1  인천광역시 중구_제1회 백범 김구 서예대전   \n",
       "2          광주광역시 북구_실외체육시설현황   \n",
       "3  보건복지부_의료기관윤리위원회 설치 의료ᄀ...   \n",
       "4  보건복지부_사전연명의료의향서 등록 현황   \n",
       "5       보건복지부_연명의료계획서 등록 현황   \n",
       "6  경기도_경기아트센터 정기간행물 예술과ᄆ...   \n",
       "7    경기도_경기평택항만공사 부두시설 현황   \n",
       "8  한국교육과정평가원_농어촌 소규모 초등...   \n",
       "9            경기도_경기주택도시공사 민원정보   \n",
       "\n",
       "                                                  설명  \\\n",
       "0  사전연명의료의향서 등록기관으로 지정되...   \n",
       "1  대한민국 임시정부 수립 101주년을 맞아...   \n",
       "2  광주광역시 북구에 위치한 실외체육시설ᄒ...   \n",
       "3  의료기관윤리위원회가 설치된 의료기관의 ᄌ...   \n",
       "4  사전연명의료의향서 등록 현황 (통보일...   \n",
       "5  연명의료계획서 등록 현황 (작성일, 화...   \n",
       "6  경기도 산하 공공기관인 경기아트센터 바...   \n",
       "7  경기도 산하 공공기관인 경기평택항만...   \n",
       "8  본 연구의 목적은 농어촌 소규모 초등학...   \n",
       "9  경기도 산하 공공기관인 경기주택도시공...   \n",
       "\n",
       "                                                  태그         등록일  \\\n",
       "0  연명의료,사전연명의료의향서,국립연명...  2021-01-06   \n",
       "1                              온라인,전시,작품  2020-12-22   \n",
       "2                        축구장,족구장,론볼장  2020-12-24   \n",
       "3  연명의료,의료기관윤리위원회,국립연명ᄋ...  2020-12-22   \n",
       "4  연명의료,사전연명의료의향서,국립연명...  2020-12-22   \n",
       "5  연명의료,연명의료계획서,국립연명의료ᄀ...  2020-12-22   \n",
       "6                      예술,발간지,경기아트센터  2020-12-22   \n",
       "7                 부두,항만,경기평택항만공사  2020-12-22   \n",
       "8                       KICE,연구보고서,국문초록  2020-12-22   \n",
       "9              민원,경기주택도시공사,주택단지  2020-12-22   \n",
       "\n",
       "                                        카테고리    가격  \\\n",
       "0                          보건 - 보건의료  무료   \n",
       "1              문화체육관광 - 문화예술  무료   \n",
       "2                   문화체육관광 - 체육  무료   \n",
       "3                          보건 - 보건의료  무료   \n",
       "4                          보건 - 보건의료  무료   \n",
       "5                          보건 - 보건의료  무료   \n",
       "6  문화체육관광 - 문화체육관광일반  무료   \n",
       "7              해양수산 - 해양수산·어촌  무료   \n",
       "8                        교육 - 교육일반  무료   \n",
       "9          일반공공행정 - 일반행정  무료   \n",
       "\n",
       "                                                  주소  \n",
       "0                                 javascript:void(0)  \n",
       "1              https://www.icjg.go.kr/tour/cths0601c  \n",
       "2                                 javascript:void(0)  \n",
       "3                                 javascript:void(0)  \n",
       "4                                 javascript:void(0)  \n",
       "5                                 javascript:void(0)  \n",
       "6  https://data.gg.go.kr/portal/data/service/sele...  \n",
       "7  https://data.gg.go.kr/portal/data/service/sele...  \n",
       "8                                 javascript:void(0)  \n",
       "9  https://data.gg.go.kr/portal/data/service/sele...  "
      ]
     },
     "execution_count": 223,
     "metadata": {},
     "output_type": "execute_result"
    }
   ],
   "source": [
    "import pandas as pd\n",
    "pd.DataFrame(results,columns=['파일명','설명','태그','등록일','카테고리','가격','주소'])"
   ]
  },
  {
   "cell_type": "markdown",
   "metadata": {},
   "source": [
    "# 구현 예제"
   ]
  },
  {
   "cell_type": "code",
   "execution_count": 40,
   "metadata": {},
   "outputs": [],
   "source": [
    "results=[]\n",
    "for i in range(0,10):\n",
    "    results.append(scraper.get_result_exact(f'https://www.data.go.kr/data/1507510{i}/fileData.do'))"
   ]
  },
  {
   "cell_type": "code",
   "execution_count": 43,
   "metadata": {
    "scrolled": false
   },
   "outputs": [
    {
     "data": {
      "text/html": [
       "<div>\n",
       "<style scoped>\n",
       "    .dataframe tbody tr th:only-of-type {\n",
       "        vertical-align: middle;\n",
       "    }\n",
       "\n",
       "    .dataframe tbody tr th {\n",
       "        vertical-align: top;\n",
       "    }\n",
       "\n",
       "    .dataframe thead th {\n",
       "        text-align: right;\n",
       "    }\n",
       "</style>\n",
       "<table border=\"1\" class=\"dataframe\">\n",
       "  <thead>\n",
       "    <tr style=\"text-align: right;\">\n",
       "      <th></th>\n",
       "      <th>파일명</th>\n",
       "      <th>태그</th>\n",
       "      <th>날짜</th>\n",
       "      <th>설명</th>\n",
       "      <th>가격</th>\n",
       "      <th>2</th>\n",
       "    </tr>\n",
       "  </thead>\n",
       "  <tbody>\n",
       "    <tr>\n",
       "      <th>0</th>\n",
       "      <td>보건복지부_사전연명의료의향서 등록기과...</td>\n",
       "      <td>연명의료,사전연명의료의향서,국립연명...</td>\n",
       "      <td>2022-01-06</td>\n",
       "      <td>사전연명의료의향서 등록기관으로 지정되...</td>\n",
       "      <td>무료</td>\n",
       "      <td>None</td>\n",
       "    </tr>\n",
       "    <tr>\n",
       "      <th>1</th>\n",
       "      <td>인천광역시 중구_제1회 백범 김구 서예대전</td>\n",
       "      <td>온라인,전시,작품</td>\n",
       "      <td>2021-12-22</td>\n",
       "      <td>https://www.icjg.go.kr/tour/cths0601c</td>\n",
       "      <td>대한민국 임시정부 수립 101주년을 맞아...</td>\n",
       "      <td>무료</td>\n",
       "    </tr>\n",
       "    <tr>\n",
       "      <th>2</th>\n",
       "      <td>광주광역시 북구_실외체육시설현황</td>\n",
       "      <td>축구장,족구장,론볼장</td>\n",
       "      <td>2021-12-24</td>\n",
       "      <td>광주광역시 북구에 위치한 실외체육시설ᄒ...</td>\n",
       "      <td>무료</td>\n",
       "      <td>None</td>\n",
       "    </tr>\n",
       "    <tr>\n",
       "      <th>3</th>\n",
       "      <td>보건복지부_의료기관윤리위원회 설치 의료ᄀ...</td>\n",
       "      <td>연명의료,의료기관윤리위원회,국립연명ᄋ...</td>\n",
       "      <td>2021-01-15</td>\n",
       "      <td>의료기관윤리위원회가 설치된 의료기관의 ᄌ...</td>\n",
       "      <td>무료</td>\n",
       "      <td>None</td>\n",
       "    </tr>\n",
       "    <tr>\n",
       "      <th>4</th>\n",
       "      <td>보건복지부_사전연명의료의향서 등록 현황</td>\n",
       "      <td>연명의료,사전연명의료의향서,국립연명...</td>\n",
       "      <td>2021-01-15</td>\n",
       "      <td>사전연명의료의향서 등록 현황 (통보일...</td>\n",
       "      <td>무료</td>\n",
       "      <td>None</td>\n",
       "    </tr>\n",
       "    <tr>\n",
       "      <th>5</th>\n",
       "      <td>보건복지부_연명의료계획서 등록 현황</td>\n",
       "      <td>연명의료,연명의료계획서,국립연명의료ᄀ...</td>\n",
       "      <td>2021-01-15</td>\n",
       "      <td>연명의료계획서 등록 현황 (작성일, 화...</td>\n",
       "      <td>무료</td>\n",
       "      <td>None</td>\n",
       "    </tr>\n",
       "    <tr>\n",
       "      <th>6</th>\n",
       "      <td>경기도_경기아트센터 정기간행물 예술과ᄆ...</td>\n",
       "      <td>예술,발간지,경기아트센터</td>\n",
       "      <td>2021-06-22</td>\n",
       "      <td>https://data.gg.go.kr/portal/data/service/sele...</td>\n",
       "      <td>경기도 산하 공공기관인 경기아트센터 바...</td>\n",
       "      <td>무료</td>\n",
       "    </tr>\n",
       "    <tr>\n",
       "      <th>7</th>\n",
       "      <td>경기도_경기평택항만공사 부두시설 현황</td>\n",
       "      <td>부두,항만,경기평택항만공사</td>\n",
       "      <td>2021-12-22</td>\n",
       "      <td>https://data.gg.go.kr/portal/data/service/sele...</td>\n",
       "      <td>경기도 산하 공공기관인 경기평택항만...</td>\n",
       "      <td>무료</td>\n",
       "    </tr>\n",
       "    <tr>\n",
       "      <th>8</th>\n",
       "      <td>한국교육과정평가원_농어촌 소규모 초등...</td>\n",
       "      <td>KICE,연구보고서,국문초록</td>\n",
       "      <td>본 연구의 목적은 농어촌 소규모 초등학...</td>\n",
       "      <td>무료</td>\n",
       "      <td>None</td>\n",
       "      <td>None</td>\n",
       "    </tr>\n",
       "    <tr>\n",
       "      <th>9</th>\n",
       "      <td>경기도_경기주택도시공사 민원정보</td>\n",
       "      <td>민원,경기주택도시공사,주택단지</td>\n",
       "      <td>2021-12-22</td>\n",
       "      <td>https://data.gg.go.kr/portal/data/service/sele...</td>\n",
       "      <td>경기도 산하 공공기관인 경기주택도시공...</td>\n",
       "      <td>무료</td>\n",
       "    </tr>\n",
       "  </tbody>\n",
       "</table>\n",
       "</div>"
      ],
      "text/plain": [
       "                                                 파일명  \\\n",
       "0  보건복지부_사전연명의료의향서 등록기과...   \n",
       "1  인천광역시 중구_제1회 백범 김구 서예대전   \n",
       "2          광주광역시 북구_실외체육시설현황   \n",
       "3  보건복지부_의료기관윤리위원회 설치 의료ᄀ...   \n",
       "4  보건복지부_사전연명의료의향서 등록 현황   \n",
       "5       보건복지부_연명의료계획서 등록 현황   \n",
       "6  경기도_경기아트센터 정기간행물 예술과ᄆ...   \n",
       "7    경기도_경기평택항만공사 부두시설 현황   \n",
       "8  한국교육과정평가원_농어촌 소규모 초등...   \n",
       "9            경기도_경기주택도시공사 민원정보   \n",
       "\n",
       "                                                  태그  \\\n",
       "0  연명의료,사전연명의료의향서,국립연명...   \n",
       "1                              온라인,전시,작품   \n",
       "2                        축구장,족구장,론볼장   \n",
       "3  연명의료,의료기관윤리위원회,국립연명ᄋ...   \n",
       "4  연명의료,사전연명의료의향서,국립연명...   \n",
       "5  연명의료,연명의료계획서,국립연명의료ᄀ...   \n",
       "6                      예술,발간지,경기아트센터   \n",
       "7                 부두,항만,경기평택항만공사   \n",
       "8                       KICE,연구보고서,국문초록   \n",
       "9              민원,경기주택도시공사,주택단지   \n",
       "\n",
       "                                                  날짜  \\\n",
       "0                                         2022-01-06   \n",
       "1                                         2021-12-22   \n",
       "2                                         2021-12-24   \n",
       "3                                         2021-01-15   \n",
       "4                                         2021-01-15   \n",
       "5                                         2021-01-15   \n",
       "6                                         2021-06-22   \n",
       "7                                         2021-12-22   \n",
       "8  본 연구의 목적은 농어촌 소규모 초등학...   \n",
       "9                                         2021-12-22   \n",
       "\n",
       "                                                  설명  \\\n",
       "0  사전연명의료의향서 등록기관으로 지정되...   \n",
       "1              https://www.icjg.go.kr/tour/cths0601c   \n",
       "2  광주광역시 북구에 위치한 실외체육시설ᄒ...   \n",
       "3  의료기관윤리위원회가 설치된 의료기관의 ᄌ...   \n",
       "4  사전연명의료의향서 등록 현황 (통보일...   \n",
       "5  연명의료계획서 등록 현황 (작성일, 화...   \n",
       "6  https://data.gg.go.kr/portal/data/service/sele...   \n",
       "7  https://data.gg.go.kr/portal/data/service/sele...   \n",
       "8                                               무료   \n",
       "9  https://data.gg.go.kr/portal/data/service/sele...   \n",
       "\n",
       "                                                  가격     2  \n",
       "0                                               무료  None  \n",
       "1  대한민국 임시정부 수립 101주년을 맞아...  무료  \n",
       "2                                               무료  None  \n",
       "3                                               무료  None  \n",
       "4                                               무료  None  \n",
       "5                                               무료  None  \n",
       "6  경기도 산하 공공기관인 경기아트센터 바...  무료  \n",
       "7  경기도 산하 공공기관인 경기평택항만...  무료  \n",
       "8                                               None  None  \n",
       "9  경기도 산하 공공기관인 경기주택도시공...  무료  "
      ]
     },
     "execution_count": 43,
     "metadata": {},
     "output_type": "execute_result"
    }
   ],
   "source": [
    "import pandas as pd\n",
    "pd.DataFrame(results,columns=['파일명','태그','날짜','설명','가격','2'])"
   ]
  },
  {
   "cell_type": "markdown",
   "metadata": {},
   "source": [
    "# 네이버 뉴스 댓글 적용"
   ]
  },
  {
   "cell_type": "code",
   "execution_count": 2,
   "metadata": {},
   "outputs": [],
   "source": [
    "from autoscraper import AutoScraper\n",
    "\n",
    "data = [\n",
    "   ('https://news.naver.com/main/read.nhn?mode=LSD&mid=shm&sid1=102&oid=001&aid=0012131591', ['신규확진 451명, 41일만에 400명대로 감소…일부 휴일 영향 반영(종합)', '기사입력 2021.01.11. 오전 9:49']),\n",
    "]\n",
    "\n",
    "scraper_news = AutoScraper()\n",
    "for url, wanted_list in data:\n",
    "    scraper_news.build(url=url, wanted_list=wanted_list, update=True)"
   ]
  },
  {
   "cell_type": "code",
   "execution_count": 3,
   "metadata": {},
   "outputs": [
    {
     "data": {
      "text/plain": [
       "{'rule_oto8': ['신규확진 451명, 41일만에 400명대로 감소...일부 휴일 영향 반영(종합)'],\n",
       " 'rule_577g': ['신규확진 451명, 41일만에 400명대로 감소...일부 휴일 영향 반영(종합)'],\n",
       " 'rule_ukmj': ['신규확진 451명, 41일만에 400명대로 감소...일부 휴일 영향 반영(종합)'],\n",
       " 'rule_1icu': ['신규확진 451명, 41일만에 400명대로 감소...일부 휴일 영향 반영(종합)'],\n",
       " 'rule_5f35': ['신규확진 451명, 41일만에 400명대로 감소...일부 휴일 영향 반영(종합)'],\n",
       " 'rule_otbj': ['신규확진 451명, 41일만에 400명대로 감소...일부 휴일 영향 반영(종합)'],\n",
       " 'rule_33r3': ['신규확진 451명, 41일만에 400명대로 감소...일부 휴일 영향 반영(종합)']}"
      ]
     },
     "execution_count": 3,
     "metadata": {},
     "output_type": "execute_result"
    }
   ],
   "source": [
    "scraper_news.get_result_exact('https://news.naver.com/main/read.nhn?mode=LSD&mid=shm&sid1=102&oid=001&aid=0012131591', grouped=True)"
   ]
  },
  {
   "cell_type": "code",
   "execution_count": 19,
   "metadata": {},
   "outputs": [],
   "source": [
    "from autoscraper import AutoScraper\n",
    "\n",
    "data = [\n",
    "   ('https://news.naver.com/main/read.nhn?mode=LSD&mid=shm&sid1=102&oid=001&aid=0012131591', ['신규확진 451명, 41일만에 400명대로 감소…일부 휴일 영향 반영(종합)', '기사입력 2021.01.11. 오전 9:49']),\n",
    "]\n",
    "\n",
    "scraper_news = AutoScraper()\n",
    "for url, wanted_list in data:\n",
    "    scraper_news.build(url=url, wanted_list=wanted_list, update=True,text_fuzz_ratio=0.7)"
   ]
  },
  {
   "cell_type": "code",
   "execution_count": 20,
   "metadata": {
    "scrolled": false
   },
   "outputs": [
    {
     "data": {
      "text/plain": [
       "{'rule_av6y': ['신규확진 451명, 41일만에 400명대로 감소...일부 휴일 영향 반영(종합)'],\n",
       " 'rule_efxw': ['신규확진 451명, 41일만에 400명대로 감소...일부 휴일 ...'],\n",
       " 'rule_7tob': ['신규확진 451명, 41일만에 400명대로 감소...일부 휴일 ...\\n1시간전'],\n",
       " 'rule_7uah': ['2\\n\\n신규확진 451명, 41일만에 400명대로 감소...일부 휴일 ...\\n1시간전'],\n",
       " 'rule_uw2l': ['동부구치소 70대 남성 확진자 사망...누적 사망자 3명(종합)'],\n",
       " 'rule_lftn': ['동부구치소 70대 남성 확진자 사망...누적 사망자 3명(종합)포토'],\n",
       " 'rule_05y0': ['동부구치소 70대 남성 확진자 사망...누적 사망자 3명(종합)'],\n",
       " 'rule_iymm': ['동부구치소 70대 남성 확진자 사망...누적 사망자 3명(종합)'],\n",
       " 'rule_fwuc': ['동부구치소 70대 남성 확진자 사망...누적 사망자 3명(종합)'],\n",
       " 'rule_uttn': ['동부구치소 70대 남성 확진자 사망...누적 사망자 3명(종합)'],\n",
       " 'rule_a7v3': ['동부구치소 70대 남성 확진자 사망...누적 사망자 3명(종합)'],\n",
       " 'rule_me0d': ['동부구치소 70대 남성 확진자 사망...누적 사망자 3명(종합) : 네이버 뉴스'],\n",
       " 'rule_1b4v': ['2021.01.07. 오후 2:38']}"
      ]
     },
     "execution_count": 20,
     "metadata": {},
     "output_type": "execute_result"
    }
   ],
   "source": [
    "scraper_news.get_result_exact('https://news.naver.com/main/read.nhn?mode=LSD&mid=shm&sid1=102&oid=001&aid=0012126089', grouped=True)"
   ]
  },
  {
   "cell_type": "code",
   "execution_count": 21,
   "metadata": {},
   "outputs": [],
   "source": [
    "from autoscraper import AutoScraper\n",
    "\n",
    "data = [\n",
    "   ('https://news.naver.com/main/read.nhn?mode=LSD&mid=shm&sid1=102&oid=001&aid=0012131591', ['신규확진 451명, 41일만에 400명대로 감소…일부 휴일 영향 반영(종합)', '기사입력 2021.01.11. 오전 9:49']),\n",
    "]\n",
    "\n",
    "scraper_news = AutoScraper()\n",
    "for url, wanted_list in data:\n",
    "    scraper_news.build(url=url, wanted_list=wanted_list, update=True,text_fuzz_ratio=0.3)"
   ]
  },
  {
   "cell_type": "code",
   "execution_count": 22,
   "metadata": {
    "scrolled": true
   },
   "outputs": [
    {
     "data": {
      "text/plain": [
       "{'rule_uk2l': ['코로나19 신규확진 451명'],\n",
       " 'rule_33cy': ['7 코로나19 신규확진 451명 NEW'],\n",
       " 'rule_7nfw': ['41일 만에 400명대'],\n",
       " 'rule_b50b': ['6 41일 만에 400명대 NEW'],\n",
       " 'rule_mb1n': ['신규확진 451명'],\n",
       " 'rule_o32e': ['2 신규확진 451명 NEW'],\n",
       " 'rule_isau': [\"사면론 띄운 이낙연, 이번엔 '코로나 이익공유제' 제안\"],\n",
       " 'rule_8x06': [\"사면론 띄운 이낙연, 이번엔 '코로나 이익공유제' 제안\\n시사저널\"],\n",
       " 'rule_cngv': [\"'소상공인 버팀목자금' 오전에 신청하고 오후에 받는다\"],\n",
       " 'rule_iyv5': ['[단독] 쿠팡, 美나스닥 예비심사 통과...이르면 3월 상 ...'],\n",
       " 'rule_9134': ['문대통령 \"코로나 백신, 전국민 무료로 접종\"(종합)'],\n",
       " 'rule_ryp3': ['한국산으로 둔갑한 중국산 감...이름이 ‘교수형 감’'],\n",
       " 'rule_ai3s': ['한국산으로 둔갑한 중국산 감...이름이 ‘교수형 감’\\nKBS'],\n",
       " 'rule_6vfc': ['동영상기사\\n\\n\\n\\n\\n한국산으로 둔갑한 중국산 감...이름이 ‘교수형 감’\\nKBS'],\n",
       " 'rule_1avm': ['화장 지우자 순식간에 미녀→추남....中여성 분노케한 광고'],\n",
       " 'rule_zebp': [\"승진 주목 '2인자' 김여정, 직책 강등 눈길...'입지 약화 ...\"],\n",
       " 'rule_w5l9': [\"승진 주목 '2인자' 김여정, 직책 강등 눈길...'입지 약화 ...\\n1시간전\"],\n",
       " 'rule_yziz': [\"4\\n\\n승진 주목 '2인자' 김여정, 직책 강등 눈길...'입지 약화 ...\\n1시간전\"],\n",
       " 'rule_o9di': ['문대통령 \"코로나 백신, 전국민 무료로 접종\"(종합)'],\n",
       " 'rule_scht': [\"'사라진 현금 145억'...카지노 재무담당 휴가 떠난 뒤 연락두절\"],\n",
       " 'rule_a92j': [\"'사라진 현금 145억'...카지노 재무담당 휴가 떠난 뒤 연락두절 포토\"],\n",
       " 'rule_yjbm': ['동부구치소 70대 남성 확진자 사망...누적 사망자 3명(종합)'],\n",
       " 'rule_rdo5': ['동부구치소 70대 남성 확진자 사망...누적 사망자 3명(종합)포토'],\n",
       " 'rule_xu91': [\"군위군 임유비 주무관, 이웃돕기 성금 기탁\\n\\n\\n\\r\\n\\t\\t\\t\\t\\t\\t\\t강원 양양군에서 아프리카돼지열병 첫 발생···백두대간 비상포토\\n\\n\\n\\n동부구치소 70대 남성 확진자 사망...누적 사망자 3명(종합)포토\\n\\n\\n\\r\\n\\t\\t\\t\\t\\t\\t\\t윤석열 총장 '응원 화환' 방화, 문모씨 영장심사 포토\\n\\n\\n\\r\\n\\t\\t\\t\\t\\t\\t\\t'사라진 현금 145억'...카지노 재무담당 휴가 떠난 뒤 연락두절 포토\"],\n",
       " 'rule_9prv': ['동부구치소 70대 남성 확진자 사망...누적 사망자 3명(종합)'],\n",
       " 'rule_idys': [],\n",
       " 'rule_rebc': ['동부구치소 70대 남성 확진자 사망...누적 사망자 3명(종합)'],\n",
       " 'rule_389k': ['동부구치소 70대 남성 확진자 사망...누적 사망자 3명(종합)'],\n",
       " 'rule_fz3m': ['\"송구하다\" 文대통령, 1년만에 부동산 첫 사과...\\'경제이...'],\n",
       " 'rule_z0m9': ['동부구치소 70대 남성 확진자 사망...누적 사망자 3명(종합)'],\n",
       " 'rule_57jp': ['동부구치소 70대 남성 확진자 사망...누적 사망자 3명(종합)'],\n",
       " 'rule_6ytn': ['동부구치소 70대 남성 확진자 사망...누적 사망자 3명(종합) : 네이버 뉴스'],\n",
       " 'rule_lfhe': ['기사배열 원칙 책임자 : 유봉석'],\n",
       " 'rule_s7ou': ['2021.01.11. 08:30 ~ 11:30 기준'],\n",
       " 'rule_ydi2': ['기사목록 전체보기'],\n",
       " 'rule_bour': ['2021.01.07. 오후 3:43'],\n",
       " 'rule_u4q6': ['2021.01.07. 오후 2:38']}"
      ]
     },
     "execution_count": 22,
     "metadata": {},
     "output_type": "execute_result"
    }
   ],
   "source": [
    "scraper_news.get_result_exact('https://news.naver.com/main/read.nhn?mode=LSD&mid=shm&sid1=102&oid=001&aid=0012126089', grouped=True)"
   ]
  },
  {
   "cell_type": "code",
   "execution_count": 33,
   "metadata": {},
   "outputs": [],
   "source": [
    "from autoscraper import AutoScraper\n",
    "\n",
    "data = [\n",
    "   # some Ebay examples\n",
    "   #('https://www.data.go.kr/data/15075824/fileData.do', ['세종특별자치시_업종별 통합허가대상사업장', '세종특별자치시 대기배출시설 인허가 2종 이상 사업장(업체명, 소재지, 전화번호 등)입니다.','044-300-2413','대기,배출,허가','2021-01-06','환경 - 대기', '무료']),\n",
    "   #('https://www.data.go.kr/data/15075786/fileData.do', ['전라북도 정읍시_농산물산지유통센터 현황','전라북도 정읍시에 소재한 농산물 산지유통센터 현황 중 기관명, 개장일, 사업장주소, 취급품목, 담당부서, 담당부서전화 자료제공','063-539-5403','농산물,산지유통,APC','2021-01-06','농림 - 농업·농촌','무료']),\n",
    "   ('https://www.data.go.kr/data/15075101/fileData.do', ['인천광역시 중구_제1회 백범 김구 서예대전','대한민국 임시정부 수립 101주년을 맞아 임정 수립과 독립에 중추적인 역할을 한 민족지도자 백범 김구 선생의 정신을 기리고 독립운동의 역사를 재조명하고자 개최된「제1회 백범 김구 서예대전」의 입선 작품과 심사위원 작품, 중국작가 기증 작품을 온라인 전시','032-760-7114','온라인,전시,작품','2020-12-22','문화체육관광 - 문화예술','무료','https://www.icjg.go.kr/tour/cths0601c']),\n",
    "   \n",
    "]\n",
    "\n",
    "scraper = AutoScraper()\n",
    "for url, wanted_list in data:\n",
    "    scraper.build(url=url, wanted_list=wanted_list, update=True ,text_fuzz_ratio=0.7)"
   ]
  },
  {
   "cell_type": "code",
   "execution_count": 34,
   "metadata": {
    "scrolled": true
   },
   "outputs": [
    {
     "data": {
      "text/plain": [
       "{'rule_bwm0': ['인천광역시 중구_제1회 백범 김구 서예대전_20201222'],\n",
       " 'rule_dfrx': ['파일데이터명\\n인천광역시 중구_제1회 백범 김구 서예대전_20201222'],\n",
       " 'rule_0hab': ['인천광역시 중구_제1회 백범 김구 서예대전'],\n",
       " 'rule_ymab': ['JPG\\r\\n\\t\\t\\t\\n인천광역시 중구_제1회 백범 김구 서예대전'],\n",
       " 'rule_sjer': ['대한민국 임시정부 수립 101주년을 맞아 임정 수립과 독립에 중추적인 역할을 한 민족지도자 백범 김구 선생의 정신을 기리고 독립운동의 역사를 재조명하고자 개최된「제1회 백범 김구 서예대전」의 입선 작품과 심사위원 작품, 중국작가 기증 작품을  온라인 전시'],\n",
       " 'rule_ich0': ['설명\\n\\r\\n\\t\\t\\t\\t\\t\\t\\t대한민국 임시정부 수립 101주년을 맞아 임정 수립과 독립에 중추적인 역할을 한 민족지도자 백범 김구 선생의 정신을 기리고 독립운동의 역사를 재조명하고자 개최된「제1회 백범 김구 서예대전」의 입선 작품과 심사위원 작품, 중국작가 기증 작품을  온라인 전시'],\n",
       " 'rule_x3l6': ['대한민국 임시정부 수립 101주년을 맞아 임정 수립과 독립에 중추적인 역할을 한 민족지도자 백범 김구 선생의 정신을 기리고 독립운동의 역사를 재조명하고자 개최된「제1회 백범 김구 서예대전」의 입선 작품과 심사위원 작품, 중국작가 기증 작품을  온라인 전시'],\n",
       " 'rule_zxy5': ['온라인,전시,작품'],\n",
       " 'rule_2kn3': ['키워드\\n온라인,전시,작품'],\n",
       " 'rule_iuoc': ['2020-12-22'],\n",
       " 'rule_xjn9': ['수정\\n2020-12-22'],\n",
       " 'rule_7dfg': ['2020-12-22'],\n",
       " 'rule_llk6': ['등록\\n2020-12-22'],\n",
       " 'rule_dyba': ['2021-12-22'],\n",
       " 'rule_k5k1': ['문화체육관광 - 문화예술'],\n",
       " 'rule_bbuo': ['분류체계\\n문화체육관광 - 문화예술'],\n",
       " 'rule_dph3': ['무료'],\n",
       " 'rule_z3kb': ['https://www.icjg.go.kr/tour/cths0601c'],\n",
       " 'rule_67c8': ['URL\\n\\nhttps://www.icjg.go.kr/tour/cths0601c'],\n",
       " 'rule_7573': ['https://www.icjg.go.kr/tour/cths0601c']}"
      ]
     },
     "execution_count": 34,
     "metadata": {},
     "output_type": "execute_result"
    }
   ],
   "source": [
    "scraper.get_result_exact('https://www.data.go.kr/data/15075101/fileData.do', grouped=True)"
   ]
  },
  {
   "cell_type": "code",
   "execution_count": 35,
   "metadata": {},
   "outputs": [],
   "source": [
    "from autoscraper import AutoScraper\n",
    "\n",
    "data = [\n",
    "   # some Ebay examples\n",
    "   #('https://www.data.go.kr/data/15075824/fileData.do', ['세종특별자치시_업종별 통합허가대상사업장', '세종특별자치시 대기배출시설 인허가 2종 이상 사업장(업체명, 소재지, 전화번호 등)입니다.','044-300-2413','대기,배출,허가','2021-01-06','환경 - 대기', '무료']),\n",
    "   #('https://www.data.go.kr/data/15075786/fileData.do', ['전라북도 정읍시_농산물산지유통센터 현황','전라북도 정읍시에 소재한 농산물 산지유통센터 현황 중 기관명, 개장일, 사업장주소, 취급품목, 담당부서, 담당부서전화 자료제공','063-539-5403','농산물,산지유통,APC','2021-01-06','농림 - 농업·농촌','무료']),\n",
    "   ('https://www.data.go.kr/data/15075101/fileData.do', ['인천광역시 중구_제1회 백범 김구 서예대전','대한민국 임시정부 수립 101주년을 맞아 임정 수립과 독립에 중추적인 역할을 한 민족지도자 백범 김구 선생의 정신을 기리고 독립운동의 역사를 재조명하고자 개최된「제1회 백범 김구 서예대전」의 입선 작품과 심사위원 작품, 중국작가 기증 작품을 온라인 전시','032-760-7114','온라인,전시,작품','2020-12-22','문화체육관광 - 문화예술','무료','https://www.icjg.go.kr/tour/cths0601c']),\n",
    "   \n",
    "]\n",
    "\n",
    "scraper = AutoScraper()\n",
    "for url, wanted_list in data:\n",
    "    scraper.build(url=url, wanted_list=wanted_list, update=True ,text_fuzz_ratio=1)"
   ]
  },
  {
   "cell_type": "code",
   "execution_count": 36,
   "metadata": {},
   "outputs": [
    {
     "data": {
      "text/plain": [
       "{'rule_3wsy': ['인천광역시 중구_제1회 백범 김구 서예대전'],\n",
       " 'rule_ufnn': ['온라인,전시,작품'],\n",
       " 'rule_aq3m': ['2020-12-22'],\n",
       " 'rule_paex': ['2020-12-22'],\n",
       " 'rule_gmtv': ['문화체육관광 - 문화예술'],\n",
       " 'rule_6cjc': ['무료'],\n",
       " 'rule_51hs': ['https://www.icjg.go.kr/tour/cths0601c'],\n",
       " 'rule_c11z': ['https://www.icjg.go.kr/tour/cths0601c']}"
      ]
     },
     "execution_count": 36,
     "metadata": {},
     "output_type": "execute_result"
    }
   ],
   "source": [
    "scraper.get_result_exact('https://www.data.go.kr/data/15075101/fileData.do', grouped=True)"
   ]
  },
  {
   "cell_type": "markdown",
   "metadata": {},
   "source": [
    "# 유튜브 - 제목, 댓글 "
   ]
  },
  {
   "cell_type": "code",
   "execution_count": 228,
   "metadata": {},
   "outputs": [],
   "source": [
    "from autoscraper import AutoScraper\n",
    "\n",
    "data = [\n",
    "   ('https://www.youtube.com/feed/trending', ['손흥민 2경기 연속골… 토트넘 vs 브렌트포드 하이라이트 #SPORTSTIME', '스포츠타임','조회수 225만회','1일 전']),\n",
    "]\n",
    "\n",
    "scraper_youtube = AutoScraper()\n",
    "for url, wanted_list in data:\n",
    "    scraper_youtube.build(url=url, wanted_list=wanted_list, update=True)"
   ]
  },
  {
   "cell_type": "markdown",
   "metadata": {},
   "source": [
    "#### 인기 항목 list x\n"
   ]
  },
  {
   "cell_type": "code",
   "execution_count": 229,
   "metadata": {},
   "outputs": [
    {
     "data": {
      "text/plain": [
       "{}"
      ]
     },
     "execution_count": 229,
     "metadata": {},
     "output_type": "execute_result"
    }
   ],
   "source": [
    "scraper_youtube.get_result_exact('https://www.youtube.com/feed/trending', grouped=True)"
   ]
  },
  {
   "cell_type": "code",
   "execution_count": 268,
   "metadata": {},
   "outputs": [],
   "source": [
    "from autoscraper import AutoScraper\n",
    "\n",
    "data = [\n",
    "('https://www.youtube.com/watch?v=sojDRsFoIQs', ['손흥민 현지해설 \"팀을 결승전으로 보내는 골입니다\" #SPORTSTIME'])]\n",
    "('https://www.youtube.com/watch?v=SE4gCim4CCE', ['[골장면 분석] 단지 스피드만 빨랐던 게 아니었던 손흥민의 쐐기골 (카라바오 : 토트넘 v 브렌트포드)'])\n",
    "scraper_youtube2 = AutoScraper()\n",
    "for url, wanted_list in data:\n",
    "    scraper_youtube2.build(url=url, wanted_list=wanted_list, update=True,text_fuzz_ratio=0.7)"
   ]
  },
  {
   "cell_type": "code",
   "execution_count": 269,
   "metadata": {
    "scrolled": true
   },
   "outputs": [
    {
     "data": {
      "text/plain": [
       "{'rule_zzlm': ['[골장면 분석] 단지 스피드만 빨랐던 게 아니었던 손흥민의 쐐기골 (카라바오 : 토트넘 v 브렌트포드) - YouTube']}"
      ]
     },
     "execution_count": 269,
     "metadata": {},
     "output_type": "execute_result"
    }
   ],
   "source": [
    "scraper_youtube2.get_result_similar('https://www.youtube.com/watch?v=SE4gCim4CCE', grouped=True)"
   ]
  },
  {
   "cell_type": "code",
   "execution_count": 270,
   "metadata": {},
   "outputs": [
    {
     "data": {
      "text/plain": [
       "{'rule_zzlm': ['손흥민 150호 골에 나온 이상한 동작에서 뭔가발견한 영국언론 \"토트넘 선수들 행동 특이하다\" - YouTube']}"
      ]
     },
     "execution_count": 270,
     "metadata": {},
     "output_type": "execute_result"
    }
   ],
   "source": [
    "scraper_youtube2.get_result_similar('https://www.youtube.com/watch?v=E_ivsgF8sOU', grouped=True)"
   ]
  },
  {
   "cell_type": "code",
   "execution_count": 271,
   "metadata": {},
   "outputs": [
    {
     "data": {
      "text/plain": [
       "{'rule_zzlm': ['[Playlist] 주말 오후, 광합성하기 좋은 온실 카페에서 🌿ᅵ따뜻했던 무수한 날들에 대한 단상ᅵafternoon chilling tape 📼 - YouTube']}"
      ]
     },
     "execution_count": 271,
     "metadata": {},
     "output_type": "execute_result"
    }
   ],
   "source": [
    "scraper_youtube2.get_result_similar('https://www.youtube.com/watch?v=TNkM5_nf01U', grouped=True)"
   ]
  },
  {
   "cell_type": "code",
   "execution_count": 210,
   "metadata": {},
   "outputs": [],
   "source": [
    "from bs4 import BeautifulSoup\n",
    "import requests\n",
    "\n",
    "base_url = 'https://www.youtube.com/watch?v=SE4gCim4CCE'\n",
    "resp = requests.get(base_url)\n",
    "html_text = resp.text"
   ]
  },
  {
   "cell_type": "code",
   "execution_count": 213,
   "metadata": {},
   "outputs": [
    {
     "data": {
      "text/plain": [
       "[]"
      ]
     },
     "execution_count": 213,
     "metadata": {},
     "output_type": "execute_result"
    }
   ],
   "source": [
    "BeautifulSoup(html_text).select('#container > h1 > yt-formatted-string')"
   ]
  },
  {
   "cell_type": "markdown",
   "metadata": {},
   "source": [
    "# 네이버 url 영화평"
   ]
  },
  {
   "cell_type": "code",
   "execution_count": 240,
   "metadata": {},
   "outputs": [],
   "source": [
    "from autoscraper import AutoScraper\n",
    "\n",
    "data = [\n",
    "   ('https://movie.naver.com/movie/bi/mi/pointWriteFormList.nhn?code=136900&type=after&onlyActualPointYn=N&onlySpoilerPointYn=N&order=newest&page={}', ['내 인생 최고에 영화 어벤져스!!!!', '021(0215****)',' 2021.01.05 22:10','10']),\n",
    "]\n",
    "\n",
    "scraper_review = AutoScraper()\n",
    "for url, wanted_list in data:\n",
    "    scraper_review.build(url=url, wanted_list=wanted_list, update=True)"
   ]
  },
  {
   "cell_type": "code",
   "execution_count": 267,
   "metadata": {
    "scrolled": false
   },
   "outputs": [
    {
     "data": {
      "text/plain": [
       "{'rule_k4eq': ['진짜 재미있어요.!.',\n",
       "  '3000천만큼 사랑합니다 ♡♡♡',\n",
       "  '3시간이 30분만에 지나감',\n",
       "  '처음에 너무지루함 마지막은 좀 재밌음',\n",
       "  '이 영화를 지루하고 재미없었던 사람들은 아이언맨 1부터 시리즈를 다 보고 오세요 그래야 이해 되고 재미있음 그걸 다보고도 재미없으면 심각한거임',\n",
       "  'Pc묻은 유치한 히어로물 그냥 그자체',\n",
       "  '정말 내 인생 영화였고 영원히 내 마음 속에 남을 영화'],\n",
       " 'rule_hleb': ['always(gnb1****)',\n",
       "  '이은성(euns****)',\n",
       "  '사랑했어(silv****)',\n",
       "  '선우(hwan****)',\n",
       "  '도순희법무사(5215****)',\n",
       "  '박지수(park****)',\n",
       "  '윤재빈(yjb0****)',\n",
       "  '홈밀크(lyta****)',\n",
       "  '남은호(come****)'],\n",
       " 'rule_9wwb': ['2021.01.02 13:15',\n",
       "  '2021.01.02 12:51',\n",
       "  '2021.01.02 11:12',\n",
       "  '2021.01.01 20:38',\n",
       "  '2021.01.01 19:13',\n",
       "  '2021.01.01 00:59',\n",
       "  '2020.12.30 19:43',\n",
       "  '2020.12.30 18:41',\n",
       "  '2020.12.30 11:03'],\n",
       " 'rule_0w18': ['10'],\n",
       " 'rule_oh1v': ['10'],\n",
       " 'rule_6o3i': ['10', '10', '10', '10', '1', '8', '10', '1', '10'],\n",
       " 'rule_55pc': ['10', '10', '10', '10', '1', '8', '10', '1', '10'],\n",
       " 'rule_2b65': ['10', '10', '10', '10', '1', '8', '10', '1', '10'],\n",
       " 'rule_xwdn': ['10', '10', '10', '10', '1', '8', '10', '1', '10'],\n",
       " 'rule_h6p8': ['10', '10', '10', '10', '1', '8', '10', '1', '10'],\n",
       " 'rule_vh33': ['10', '10', '10', '10', '1', '8', '10', '1', '10'],\n",
       " 'rule_3w6d': ['10', '10', '10', '10', '1', '8', '10', '1', '10'],\n",
       " 'rule_sbhx': ['10', '10', '10', '10', '1', '8', '10', '1', '10']}"
      ]
     },
     "execution_count": 267,
     "metadata": {},
     "output_type": "execute_result"
    }
   ],
   "source": [
    "scraper_review.get_result_similar('https://movie.naver.com/movie/bi/mi/pointWriteFormList.nhn?code=136900&type=after&onlyActualPointYn=N&onlySpoilerPointYn=N&order=newest&page=2', grouped=True)"
   ]
  },
  {
   "cell_type": "code",
   "execution_count": 244,
   "metadata": {},
   "outputs": [
    {
     "data": {
      "text/plain": [
       "{'rule_k4eq': ['진짜 재미있어요.!.',\n",
       "  '3000천만큼 사랑합니다 ♡♡♡',\n",
       "  '3시간이 30분만에 지나감',\n",
       "  '처음에 너무지루함 마지막은 좀 재밌음',\n",
       "  '이 영화를 지루하고 재미없었던 사람들은 아이언맨 1부터 시리즈를 다 보고 오세요 그래야 이해 되고 재미있음 그걸 다보고도 재미없으면 심각한거임',\n",
       "  'Pc묻은 유치한 히어로물 그냥 그자체',\n",
       "  '정말 내 인생 영화였고 영원히 내 마음 속에 남을 영화'],\n",
       " 'rule_hleb': ['always(gnb1****)',\n",
       "  '이은성(euns****)',\n",
       "  '사랑했어(silv****)',\n",
       "  '선우(hwan****)',\n",
       "  '도순희법무사(5215****)',\n",
       "  '박지수(park****)',\n",
       "  '윤재빈(yjb0****)',\n",
       "  '홈밀크(lyta****)',\n",
       "  '남은호(come****)'],\n",
       " 'rule_9wwb': ['2021.01.02 13:15',\n",
       "  '2021.01.02 12:51',\n",
       "  '2021.01.02 11:12',\n",
       "  '2021.01.01 20:38',\n",
       "  '2021.01.01 19:13',\n",
       "  '2021.01.01 00:59',\n",
       "  '2020.12.30 19:43',\n",
       "  '2020.12.30 18:41',\n",
       "  '2020.12.30 11:03'],\n",
       " 'rule_0w18': ['10'],\n",
       " 'rule_oh1v': ['10'],\n",
       " 'rule_6o3i': ['10', '10', '10', '10', '1', '8', '10', '1', '10'],\n",
       " 'rule_55pc': ['10', '10', '10', '10', '1', '8', '10', '1', '10'],\n",
       " 'rule_2b65': ['10', '10', '10', '10', '1', '8', '10', '1', '10'],\n",
       " 'rule_xwdn': ['10', '10', '10', '10', '1', '8', '10', '1', '10'],\n",
       " 'rule_h6p8': ['10', '10', '10', '10', '1', '8', '10', '1', '10'],\n",
       " 'rule_vh33': ['10', '10', '10', '10', '1', '8', '10', '1', '10'],\n",
       " 'rule_3w6d': ['10', '10', '10', '10', '1', '8', '10', '1', '10'],\n",
       " 'rule_sbhx': ['10', '10', '10', '10', '1', '8', '10', '1', '10']}"
      ]
     },
     "execution_count": 244,
     "metadata": {},
     "output_type": "execute_result"
    }
   ],
   "source": [
    "scraper_review.get_result_similar('https://movie.naver.com/movie/bi/mi/pointWriteFormList.nhn?code=136900&type=after&onlyActualPointYn=N&onlySpoilerPointYn=N&order=newest&page=2', grouped=True)"
   ]
  },
  {
   "cell_type": "code",
   "execution_count": 237,
   "metadata": {},
   "outputs": [
    {
     "data": {
      "text/plain": [
       "{'rule_n78s': [],\n",
       " 'rule_pkjp': [],\n",
       " 'rule_wz5d': [],\n",
       " 'rule_xvo7': [],\n",
       " 'rule_a3ap': [],\n",
       " 'rule_hfxt': [],\n",
       " 'rule_qiym': [],\n",
       " 'rule_b7hh': [],\n",
       " 'rule_fdrx': [],\n",
       " 'rule_815x': [],\n",
       " 'rule_qavw': [],\n",
       " 'rule_uw89': [],\n",
       " 'rule_tbvb': [],\n",
       " 'rule_ut9z': [],\n",
       " 'rule_0ifi': [],\n",
       " 'rule_u80e': [],\n",
       " 'rule_tdnq': [],\n",
       " 'rule_sfm3': [],\n",
       " 'rule_myiz': [],\n",
       " 'rule_d1wi': [],\n",
       " 'rule_e1vj': [],\n",
       " 'rule_prow': [],\n",
       " 'rule_i406': []}"
      ]
     },
     "execution_count": 237,
     "metadata": {},
     "output_type": "execute_result"
    }
   ],
   "source": [
    "scraper_review.get_result_similar('https://www.youtube.com/watch?v=SE4gCim4CCE', grouped=True,attr_fuzz_ratio=0.4)"
   ]
  }
 ],
 "metadata": {
  "kernelspec": {
   "display_name": "Python 3",
   "language": "python",
   "name": "python3"
  },
  "language_info": {
   "codemirror_mode": {
    "name": "ipython",
    "version": 3
   },
   "file_extension": ".py",
   "mimetype": "text/x-python",
   "name": "python",
   "nbconvert_exporter": "python",
   "pygments_lexer": "ipython3",
   "version": "3.8.3"
  }
 },
 "nbformat": 4,
 "nbformat_minor": 4
}
